{
 "cells": [
  {
   "cell_type": "markdown",
   "metadata": {},
   "source": [
    "### Importing Libraries"
   ]
  },
  {
   "cell_type": "code",
   "execution_count": 14,
   "metadata": {},
   "outputs": [],
   "source": [
    "%load_ext autoreload\n",
    "%autoreload 2"
   ]
  },
  {
   "cell_type": "code",
   "execution_count": 2,
   "metadata": {},
   "outputs": [],
   "source": [
    "import numpy as np\n",
    "import pandas as pd\n",
    "import glob \n",
    "import os\n",
    "from sklearn import metrics\n",
    "from sklearn.feature_extraction.text import TfidfVectorizer\n",
    "from sklearn import preprocessing\n",
    "from sklearn import metrics\n",
    "from sklearn.pipeline import Pipeline\n",
    "from nltk.corpus import stopwords\n",
    "from sklearn.model_selection import train_test_split\n",
    "from sklearn.svm import LinearSVC\n",
    "from sklearn.metrics import classification_report\n",
    "import checklist\n",
    "from checklist.editor import Editor\n",
    "from checklist.perturb import Perturb\n",
    "from checklist.test_types import MFT, INV, DIR\n",
    "import numpy as np\n"
   ]
  },
  {
   "cell_type": "markdown",
   "metadata": {},
   "source": [
    "#### Setting up device for GPU usage"
   ]
  },
  {
   "cell_type": "code",
   "execution_count": 3,
   "metadata": {},
   "outputs": [],
   "source": [
    "from torch import cuda\n",
    "device = 'cuda' if cuda.is_available() else 'cpu'"
   ]
  },
  {
   "cell_type": "code",
   "execution_count": 3,
   "metadata": {},
   "outputs": [],
   "source": [
    "#lang = 'english'\n",
    "#STOPWORDS = stopwords.words(LANG)"
   ]
  },
  {
   "cell_type": "markdown",
   "metadata": {},
   "source": [
    "#### Setting display options"
   ]
  },
  {
   "cell_type": "code",
   "execution_count": 4,
   "metadata": {},
   "outputs": [],
   "source": [
    "pd.set_option('display.max_rows', 10)\n",
    "pd.set_option('display.max_columns', 500)\n",
    "pd.set_option('display.width', 500)\n",
    "pd.set_option('display.max_colwidth', 0)"
   ]
  },
  {
   "cell_type": "markdown",
   "metadata": {},
   "source": [
    "### Import Train, Val & Test Sets"
   ]
  },
  {
   "cell_type": "code",
   "execution_count": 5,
   "metadata": {},
   "outputs": [],
   "source": [
    "train_data = pd.read_csv('./data/Train.csv')\n",
    "val_data = pd.read_csv('./data/Valid.csv')\n",
    "test_data = pd.read_csv('./data/Test.csv')"
   ]
  },
  {
   "cell_type": "code",
   "execution_count": 6,
   "metadata": {},
   "outputs": [
    {
     "data": {
      "text/plain": [
       "0    20019\n",
       "1    19981\n",
       "Name: label, dtype: int64"
      ]
     },
     "execution_count": 6,
     "metadata": {},
     "output_type": "execute_result"
    }
   ],
   "source": [
    "train_data.label.value_counts()"
   ]
  },
  {
   "cell_type": "code",
   "execution_count": 7,
   "metadata": {},
   "outputs": [
    {
     "data": {
      "text/plain": [
       "1    2514\n",
       "0    2486\n",
       "Name: label, dtype: int64"
      ]
     },
     "execution_count": 7,
     "metadata": {},
     "output_type": "execute_result"
    }
   ],
   "source": [
    "val_data.label.value_counts()"
   ]
  },
  {
   "cell_type": "code",
   "execution_count": 8,
   "metadata": {},
   "outputs": [
    {
     "data": {
      "text/plain": [
       "1    2505\n",
       "0    2495\n",
       "Name: label, dtype: int64"
      ]
     },
     "execution_count": 8,
     "metadata": {},
     "output_type": "execute_result"
    }
   ],
   "source": [
    "test_data.label.value_counts()"
   ]
  },
  {
   "cell_type": "code",
   "execution_count": 9,
   "metadata": {},
   "outputs": [
    {
     "data": {
      "text/html": [
       "<div>\n",
       "<style scoped>\n",
       "    .dataframe tbody tr th:only-of-type {\n",
       "        vertical-align: middle;\n",
       "    }\n",
       "\n",
       "    .dataframe tbody tr th {\n",
       "        vertical-align: top;\n",
       "    }\n",
       "\n",
       "    .dataframe thead th {\n",
       "        text-align: right;\n",
       "    }\n",
       "</style>\n",
       "<table border=\"1\" class=\"dataframe\">\n",
       "  <thead>\n",
       "    <tr style=\"text-align: right;\">\n",
       "      <th></th>\n",
       "      <th>text</th>\n",
       "      <th>label</th>\n",
       "    </tr>\n",
       "  </thead>\n",
       "  <tbody>\n",
       "    <tr>\n",
       "      <th>4779</th>\n",
       "      <td>This movie is not about the soda nor is it quite the French Connection.&lt;br /&gt;&lt;br /&gt;The Seven Ups are a group of elite policemen that use tactics not in accordance with protocol of the NYPD. Scheider heads the group with his posse or regular looking joes. They are running surveillance on a local costra nostra cartel and things go awry when a cop's wire is found out.&lt;br /&gt;&lt;br /&gt;Meanwhile, Richard Lynch, the most evil looking man in film (Invasion:America, Little Nikita) and his partner end up killing the cop by accident and escape from Scheider in the coolest chase scene I've seen, Bullitt and French Connection are not as good as they one up the West Side to the George Washington and onto the Palisades Parkway in New Jersey. &lt;br /&gt;&lt;br /&gt;The stunt drivers are terrific and Lynch makes it away free though he looks scared witless from the dangerous trip. Roy Scheider is nearly killed when his car slams into the abutted rear of Mack truck ripping the roof of his vehicle off. &lt;br /&gt;&lt;br /&gt;Things come to a head and one has to keep watching to follow up on such a sequence. Quick moving and intense, fresh for a thirty years.</td>\n",
       "      <td>1</td>\n",
       "    </tr>\n",
       "    <tr>\n",
       "      <th>12054</th>\n",
       "      <td>Honestly, on the subject of the death penalty, I could take it or leave it. The problem I have with this documentary lies in the fact that it is a complete love-fest for the murderer, with absolutely no sympathy for the family. The Execution of Wanda Jean, with it's completely one sided view, only reinforced my view that she should have been executed for her crimes. It tried to argue that she was mentally retarded, but nothing in the video supported that view. She seemed uneducated, but so did her entire family, but that doesn't mean they were all retarded. I can completely understand if someone is opposed to the death penalty, but to completely ignore the crime, as if it didn't happen, and try to put Wanda on some moral mountain top, is offensive in nature, and that's not the side of the issue I would be associated with.</td>\n",
       "      <td>0</td>\n",
       "    </tr>\n",
       "    <tr>\n",
       "      <th>37408</th>\n",
       "      <td>FORGET CREDIBILITY&lt;br /&gt;&lt;br /&gt;You must not expect credibility with action movies where the superhero has to perform an endless string of unbelievable feats, being trodden upon in the process but recovering at lightning speed, and transforming innocuous gadgets in lethal weapons... especially when Renny Harlin is directing.&lt;br /&gt;&lt;br /&gt;\"CLIFFHANGER \" is no exception. But the movie has numerous assets : breathtaking scenery gorgeously photographed, stunning special and visual effects ( the first five minutes are gripping and give the tone of the film ), excellent musical score, welcome attempts at levity to relieve some of the tension, and a solid cast : two heroes ( Stallone, star and cowriter, has the lion's share of the footage, but the excellent Michael Rooker more than stands his ground ), a charming heroin ( Janine Turner ), and one of the most darstardy bunch of villains ever ( priceless John Lithgow and deceivingly feminine Caroline Goodall, but also Rex Linn - in a longer than usual part and who makes the most of it, Leon, Craig Fairbrass ) Good, solid entertainment then , if no credibility.As Roger Ebert wrote ( about another film )\"It's the kind of movie you can sit back and enjoy as long as you don't make the mistake of thinking too much.\"&lt;br /&gt;&lt;br /&gt;</td>\n",
       "      <td>1</td>\n",
       "    </tr>\n",
       "    <tr>\n",
       "      <th>14767</th>\n",
       "      <td>***SPOILERS*** Even though the movie \"They Made Me A Criminal\" is nowhere as good as the later John Garfield anti-hero classics like \"Body &amp; Soul\" in 1947 \"Force of Evil\" in 1948 and his last and very underrated \"He Ran All The Way\" in 1951 it's the film that defined his career from that point onward until his untimely death on May 21, 1952 at the young age of 39. &lt;br /&gt;&lt;br /&gt;Garfiled plays the part of light Weight Champion Johnnie Bradfield and later the fugitive from the law Jack Dorney who's innocent of the murder that he's charged with, even though he's been declared officially dead. Jonnie's manager Doc Ward, Robert \"Doc\" Gleckler, who during a drunken victory party killed reporter Charles McGee,John Ridgely, who was going to expose to the public his fighter Johnnie Bradfield lies about him being a one women guy as well as non drinking momma's boy. Doc Gleckler smashed a bottle over McGee's head killing him as Jonnie was almost dead drunk with a number of women partying in his hotel suite. &lt;br /&gt;&lt;br /&gt;Doc was later killed in a car crash with Johnnie's girlfriend Goldie, Ann Sheridan, but Doc burned to a crisp and with Johnnie's watch on him was mistaken for Johnnie. Told to stay dead and buried by his lawyer Malvin ,Robert Strange, who took $9,750.00 of the $10,000.00 of Johnnie's money that he had for this great piece of advice. Malvin told Johnnie to take on a new identity and call himself from now on Jack Dorney and get the hell out of the state of New York; talking about sleazy shysters. Johnnie now Jack Dorney travels the rails from New York down to Arizona ending up at the Rancho Rafferty Date Farm where most of the film takes place.&lt;br /&gt;&lt;br /&gt;If it wasn't for John Garfield in the lead role as both Jonnie Bradfield &amp; Jack Dorney the movie would have long been lost and forgotten. Garfield who was only 26 at the time brought the best out of everyone in the movie. Even the transported Dead End Kids, I guess we can call them The Arizona Kids here, acting were notches above what you would have expected from them and they came across as real and sensitive persons not a bunch of slap stick clowns like in almost all of their movies. All that due to being on the same stage, or filming location, with John Garfield. &lt;br /&gt;&lt;br /&gt;\"They Made Me a Criminal\" is a good story that has the undercover champ acting like anything but not to draw any attention on himself and end up not only behind bars but in the electric chair. In the end Jack showed just what kind of man he is by not fighting the big fight and against all the odds dramatically winning at the last moment but by going four brutal rounds to get the money for his new found family at the date farm including his girl Peggy, Gloria Dickson, to open up a gas station with it. &lt;br /&gt;&lt;br /&gt;Giving the European champ Gaspar Rutchek, Frank Riggi, the fight of his life and getting $2,000.00, thats $500.00 a round, for doing it Jack showed everyone who looked up to him like the \"Arizona Kids\" that sometimes taking a punch is far braver and more courageous then throwing one.The fact that Jack could have easily clobbered Rutched but didn't in order not to expose himself to the police, as on the loose killer Johnnie Bradfield. But instead went as far as he could taking everything that Rutchek could throw at him to help out his friends showed more then all the fights that he won in the boxing ring put together. &lt;br /&gt;&lt;br /&gt;I for one didn't find the ending of the movie contrived at all but fitting right in with the story. The cop Morty Phelam, Claude Rains, who came to Arizona from New York to arrest Jack had to live with for years the fact that he once sent an innocent man to the electric chair. We were told all this right at the start of the movie. Why knowing that Jack/Johnnie was innocent of the murder that he's charged with and not knowing for sure if he'll be found innocent of it in a court of law would he want to make the same terrible mistake again? I can easily see this happening in real life why not then in the movies.</td>\n",
       "      <td>1</td>\n",
       "    </tr>\n",
       "    <tr>\n",
       "      <th>14022</th>\n",
       "      <td>A true dark noir movie and a very graphic film, nice storyline of a man pursuing redemption, that may have just left it all too late. Visually there are some really nice scenes artistically amazing as to what can be done with a minimal budget. Full marks to Gareth Maxwell Roberts and team, I look forward to the next project with new ideas although hopefully more British actors would be great. Lisa Ray looked lovely not seen her before and hope to see her again in the future. Subject all interesting Sex,Drugs and Violence. Bring it on. I would definitely say to rent this one and check it out if you're in the mood for a semi moody noir.</td>\n",
       "      <td>1</td>\n",
       "    </tr>\n",
       "    <tr>\n",
       "      <th>34108</th>\n",
       "      <td>Awful! Awful! Awful! No, I didn't like it. It was obvious what the intent of the film was: to track the wheeling and dealing of the \"movers and shakers\" who produce a film. In some cases, these are people who represent themselves as other than what they are. I didn't need a film to tell me how shallow some of the people in the film industry are. I suppose I'm at fault really because I expected something like \"Roman Holiday\".&lt;br /&gt;&lt;br /&gt;I'm not a movie-maker nor do I take film classes but it appeared to me that the film consisted of a series of 'two-shots' (in the main) where the actors(!) had been supplied with a loose plot-line and they were to improvise the dialogue. Henry Jaglon makes the claim that he along with Victoria Foyt actually wrote the screenplay but the impression was that the actors, cognisant of the general direction of the film, extemporised the dialogue - and it was not always successful. Such a case in point was when Ron Silver made some remark which really didn't flow along the line of the conversation (and I'm not going back to look for it!) and Greta Scacchi broke into laughter even though they were supposed to be having a serious conversation, because Silver's remark was such a non sequitur. You get the impression too that one actor deliberately tries to 'wrong foot' the other actor and break his/her concentration. Another instance of this is when a producer tells Silver to \"bring the &amp;*%#@#^ documents\" (3 times). Silver looked literally lost for words. I have seen one other film which looked like a series of drama workshops on improvisation and that was awful too!&lt;br /&gt;&lt;br /&gt;The fact that Jaglon was able to attract Greta Scacchi (no stranger to Australia), Ron Silver, Anouk Ami, and Maximilian Schell suggests it was a 'slow news week' for them. Peter Bogdanovich had a 'what-the-hell-am-I-doing-here' look on his face at all times and I expected to hear him say: \"Look, I'm a director and screenwriter - not an actor\" - which would have been unnecessary to state! Faye Dunaway seemed more interested in promoting her son, Liam. Apart from the jerky delivery of the dialogue, the hand-held camera became irritating even if it was for verisimilitude - as I suspect the \"natural\" dialogue was - and the interest in the principals became subsumed to the interest in the various youths walking along the strand trying to insinuate themselves into shot. That at least approached Cinema Verite. So that, along with the irritating French singing during which I used the mute button, made for a generally disappointing 90-odd minutes.&lt;br /&gt;&lt;br /&gt;I think we should avoid apotheosising films such as this. Trying to see value in the film where it has little credit in order to substantiate a perceived transcendental level to it is misguided. There was really nothing avant-garde about it. It didn't come across as a work of art and yet it wasn't a documentary either. I know, it was a mocumentary but the real test is whether it is entertaining. I was bored out of my skull! It did have one redeeming feature: it pronounced 'Cannes' correctly so I gave it 3/10.</td>\n",
       "      <td>0</td>\n",
       "    </tr>\n",
       "    <tr>\n",
       "      <th>23204</th>\n",
       "      <td>Before I saw this film I didn't really expect to much from it, although my friend advised otherwise. Due to this request from my friend I decided I was really going to watch this film. The minute I sat down to view the film I was absolutely blown away. From the credits I was falling of my seat; I just couldn't contain myself. The film is about Hitler in all the glory of comedy. Hynkel is the absolute double for the Jewish Barber, who comes back from fighting in the war. Due to the heroics of the barber, he manages to save one of the germans and by doing that gets a member of the enemy on board, which helps in the struggle which the jews had. But things went wrong and Stolz was arrested, but only then to escape to the confines of the Jewish surburb, 'The Ghetto'. Due to this escape, the german army began searching which meant that the Barber and Stolz got arrested but again they escaped, only to be mistaken for hynkel and consequently takes his poistion. *****THE SPEECH THAT CHAPLIN MAKES AT THE END IS FANTASTIC, IT COMPLIES THE MORALS WHICH SOCIETY COULD ONLY DREAM ABOUT. IN THE SPEECH IT CONTRADICTS THE WHOLE MEANING OF THE FILM BECAUSE OF THE SERIOUNESS AND SINCERENITY WHICH IT ENTAILED, AND IT DEFINATELY WORKS, BECAUSE I DID WALK OUT FEELING GUILTY ABOUT HOW WE LIVE OUR LIVES, LOOKING AT THE SMALLEST THING SUCH AS BEING IGNORANT TO SOMEONE TO THE BIGGEST, MOST PROMINENT THINGS SUCH AS WAR.</td>\n",
       "      <td>1</td>\n",
       "    </tr>\n",
       "    <tr>\n",
       "      <th>26422</th>\n",
       "      <td>During production, this LWT series was titled 'Rocket To The Moon', a title that everyone on set at the time thought was cheesy enough. Then word came through that it had been retitled 'Reach for the Moon', as if this the addition of this new word would evoke heavy metaphorical meanings involving the relationships and aspirations of the characters. This same heavy handed lack of subtlety and understanding is clear throughout the very fabric of the entire series, and the same tired and boring love-triangle storyline is actually stretched out over 7 episodes! Any television program that decides to use the 'love-triangle' storyline for even a single episode is pushing it, but to smear it over seven episodes is unforgivable. There are reasons to watch however, with the scenery of the Isle of Wight certainly providing a beautiful setting, and the seemingly effortless performance of Lynda Bellingham hitting all the right comedy marks. This, however is not enough. A number of performances are noticeable , especially when placed against the static and emotionless wasteland which Jonathan Kerrigan refers to as his face. I have already mentioned Lynda Bellingham in the role of 'fussy mother' (yes, thats as far as character development and back-story goes), but I was impressed by the actor Maurice Roeves (who is by far the most experienced actor in the cast, having appeared in everything from classic movies such as Richard Attenborough's 'Oh What a Lovely War', and 'The Eagle Has Landed', and TV including Baywatch, Holby City, The Bill, Eastenders, Cheers, Doctor Who in the 80s, Star Trek, and even going to Hollywood with Sylvestor Stallone in 1995s Judge Dredd) whose performance reminded me very much of actual teachers I have met - often incapable men, whose lives are tinged with a very sad streak. It is refreshing to see that Roeves is still getting work, having also appeared in the 1998 British film 'The Acid House' and even more recently alongside the wonderful Maria Bello and Sean Bean in 'The Dark'. The standout reason to watch this series, even though his appearances are very few. Another actor who tries his hardest to elevate the program, is Ben Miles, in the role of the sex-mad 'typical man' brother (once again, what an original character!). As with Roeves, the CV says it all. After elevating this, Miles has since appeared in the Hollywood movie 'V for Vendetta', and the 2001 star studded film 'The Affair of the Necklace', alongside Brian Cox, Adrien Brody, Christopher Walken and Jonathan Pryce. Unfortunately the fairly capable actors I have mentioned are resigned to relatively small roles in comparison to the dramatic driftwood that is Kerrigan and Saira Todd, both of whom seem to have been in Casualty for too long, and haven't yet learned to act. Even the tolerable Frances Grey is made to suffer in the presence of such theatrically fetal mannequins, and unfortunately for her, the lasting memory I have of her from the set, is of the AD asking for another take of a relatively complex shot because during the take, she subconsciously 'pulled her knickers out of her crack!'. Familiar faces appear in each episode - child actors from CBBC programs, and dramas such as '2 Point 4 Children', and other regulars from commercials such as Mr Ben's (\"they'll remember me for this\"), Lynda 'the Oxo lady' Bellingham, and others that I don't even want to remember. Each episode halfheartedly tries to 'deal with issues' such as teenage pregnancy, disruptive pupils, and rocket building(!)... things that Grange Hill was doing better when my parents were young! Overall, this series was a disappointment, and a wasted opportunity to craft a genuinely interesting and well developed drama series. Unfortunately, for them they took the easy route, both in the writing and (for the most part) in the casting. I would recommend both 'Waterloo Road' and 'The Street',to fans of good drama - the latter in particular which managed to achieve this. If you like the Isle of Wight, don't 'reach for the moon', reach for the holiday brochure instead - it probably contains more character development!</td>\n",
       "      <td>0</td>\n",
       "    </tr>\n",
       "    <tr>\n",
       "      <th>10241</th>\n",
       "      <td>Some people have stated that as of the 11th season, South Park has started a trend of leaving behind their politically biting satire for shallow spoofs; but this could not be further from the truth.&lt;br /&gt;&lt;br /&gt;While this episode does spoof the Living Dead series, there is more. It is a satire of how people treat the homeless. Characters say things like \"They're pretending to be just like us\" or \"They want to be human.\" This episode attacks a culture of people who ignore the lower class who are often just down on their luck.&lt;br /&gt;&lt;br /&gt;So yes, it is still a satire, and also a wonderful spoof. What more could you want?</td>\n",
       "      <td>1</td>\n",
       "    </tr>\n",
       "    <tr>\n",
       "      <th>24821</th>\n",
       "      <td>At the time I am writing this I see out of over 15,000 votes it has a 5.8 rating. Something is wrong with that picture. Personally I give it a 10. I can see a 7 at the lowest or a possible 8 if it was rated by people that see this movie for what it truly is. It is a movie based on a comic book hero. This movie won more than it's share of awards. Won 3 Oscars. Another 5 wins &amp; 26 nominations .... right there tells me it's better than a 5.8. Some great acting from some very good actors, some great special effects and in my opinion will be if not already a classic for years to come. If you're looking for pure entertainment be sure to check out Dick Tracy. Definitely a movie you can watch more than a few times. Al Pacino is great as Big Boy Caprice.</td>\n",
       "      <td>1</td>\n",
       "    </tr>\n",
       "  </tbody>\n",
       "</table>\n",
       "</div>"
      ],
      "text/plain": [
       "                                                                                                                                                                                                                                                                                                                                                                                                                                                                                                                                                                                                                                                                                                                                                                                                                                                                                                                                                                                                                                                                                                                                                                                                                                                                                                                                                                                                                                                                                                                                                                                                                                                                                                                                                                                                                                                                                                                                                                                                                                                                                                                                                                                                                                                                                                                                                                                                                                                                                                                                                                                                                                                                                                                                                                                                                                                                                                                                                                                                                                                                                                                                                                                                                                                                                                                                                                                                                                                                                                                                                                                                                                                                                                                                                                                                                                                                                                                                                                                                                                                                                                                                                                                                                                                                                                       text  \\\n",
       "4779   This movie is not about the soda nor is it quite the French Connection.<br /><br />The Seven Ups are a group of elite policemen that use tactics not in accordance with protocol of the NYPD. Scheider heads the group with his posse or regular looking joes. They are running surveillance on a local costra nostra cartel and things go awry when a cop's wire is found out.<br /><br />Meanwhile, Richard Lynch, the most evil looking man in film (Invasion:America, Little Nikita) and his partner end up killing the cop by accident and escape from Scheider in the coolest chase scene I've seen, Bullitt and French Connection are not as good as they one up the West Side to the George Washington and onto the Palisades Parkway in New Jersey. <br /><br />The stunt drivers are terrific and Lynch makes it away free though he looks scared witless from the dangerous trip. Roy Scheider is nearly killed when his car slams into the abutted rear of Mack truck ripping the roof of his vehicle off. <br /><br />Things come to a head and one has to keep watching to follow up on such a sequence. Quick moving and intense, fresh for a thirty years.                                                                                                                                                                                                                                                                                                                                                                                                                                                                                                                                                                                                                                                                                                                                                                                                                                                                                                                                                                                                                                                                                                                                                                                                                                                                                                                                                                                                                                                                                                                                                                                                                                                                                                                                                                                                                                                                                                                                                                                                                                                                                                                                                                                                                                                                                                                                                                                                                                                                                                                                                                                                                                                                                                                                                                                                                                                                                                                                                                                                                                                                                                                             \n",
       "12054  Honestly, on the subject of the death penalty, I could take it or leave it. The problem I have with this documentary lies in the fact that it is a complete love-fest for the murderer, with absolutely no sympathy for the family. The Execution of Wanda Jean, with it's completely one sided view, only reinforced my view that she should have been executed for her crimes. It tried to argue that she was mentally retarded, but nothing in the video supported that view. She seemed uneducated, but so did her entire family, but that doesn't mean they were all retarded. I can completely understand if someone is opposed to the death penalty, but to completely ignore the crime, as if it didn't happen, and try to put Wanda on some moral mountain top, is offensive in nature, and that's not the side of the issue I would be associated with.                                                                                                                                                                                                                                                                                                                                                                                                                                                                                                                                                                                                                                                                                                                                                                                                                                                                                                                                                                                                                                                                                                                                                                                                                                                                                                                                                                                                                                                                                                                                                                                                                                                                                                                                                                                                                                                                                                                                                                                                                                                                                                                                                                                                                                                                                                                                                                                                                                                                                                                                                                                                                                                                                                                                                                                                                                                                                                                                                                                                                                                                                                                                                                                                                                                                                                                                                                                                                                      \n",
       "37408  FORGET CREDIBILITY<br /><br />You must not expect credibility with action movies where the superhero has to perform an endless string of unbelievable feats, being trodden upon in the process but recovering at lightning speed, and transforming innocuous gadgets in lethal weapons... especially when Renny Harlin is directing.<br /><br />\"CLIFFHANGER \" is no exception. But the movie has numerous assets : breathtaking scenery gorgeously photographed, stunning special and visual effects ( the first five minutes are gripping and give the tone of the film ), excellent musical score, welcome attempts at levity to relieve some of the tension, and a solid cast : two heroes ( Stallone, star and cowriter, has the lion's share of the footage, but the excellent Michael Rooker more than stands his ground ), a charming heroin ( Janine Turner ), and one of the most darstardy bunch of villains ever ( priceless John Lithgow and deceivingly feminine Caroline Goodall, but also Rex Linn - in a longer than usual part and who makes the most of it, Leon, Craig Fairbrass ) Good, solid entertainment then , if no credibility.As Roger Ebert wrote ( about another film )\"It's the kind of movie you can sit back and enjoy as long as you don't make the mistake of thinking too much.\"<br /><br />                                                                                                                                                                                                                                                                                                                                                                                                                                                                                                                                                                                                                                                                                                                                                                                                                                                                                                                                                                                                                                                                                                                                                                                                                                                                                                                                                                                                                                                                                                                                                                                                                                                                                                                                                                                                                                                                                                                                                                                                                                                                                                                                                                                                                                                                                                                                                                                                                                                                                                                                                                                                                                                                                                                                                                                                                                                                                                                                                                       \n",
       "14767  ***SPOILERS*** Even though the movie \"They Made Me A Criminal\" is nowhere as good as the later John Garfield anti-hero classics like \"Body & Soul\" in 1947 \"Force of Evil\" in 1948 and his last and very underrated \"He Ran All The Way\" in 1951 it's the film that defined his career from that point onward until his untimely death on May 21, 1952 at the young age of 39. <br /><br />Garfiled plays the part of light Weight Champion Johnnie Bradfield and later the fugitive from the law Jack Dorney who's innocent of the murder that he's charged with, even though he's been declared officially dead. Jonnie's manager Doc Ward, Robert \"Doc\" Gleckler, who during a drunken victory party killed reporter Charles McGee,John Ridgely, who was going to expose to the public his fighter Johnnie Bradfield lies about him being a one women guy as well as non drinking momma's boy. Doc Gleckler smashed a bottle over McGee's head killing him as Jonnie was almost dead drunk with a number of women partying in his hotel suite. <br /><br />Doc was later killed in a car crash with Johnnie's girlfriend Goldie, Ann Sheridan, but Doc burned to a crisp and with Johnnie's watch on him was mistaken for Johnnie. Told to stay dead and buried by his lawyer Malvin ,Robert Strange, who took $9,750.00 of the $10,000.00 of Johnnie's money that he had for this great piece of advice. Malvin told Johnnie to take on a new identity and call himself from now on Jack Dorney and get the hell out of the state of New York; talking about sleazy shysters. Johnnie now Jack Dorney travels the rails from New York down to Arizona ending up at the Rancho Rafferty Date Farm where most of the film takes place.<br /><br />If it wasn't for John Garfield in the lead role as both Jonnie Bradfield & Jack Dorney the movie would have long been lost and forgotten. Garfield who was only 26 at the time brought the best out of everyone in the movie. Even the transported Dead End Kids, I guess we can call them The Arizona Kids here, acting were notches above what you would have expected from them and they came across as real and sensitive persons not a bunch of slap stick clowns like in almost all of their movies. All that due to being on the same stage, or filming location, with John Garfield. <br /><br />\"They Made Me a Criminal\" is a good story that has the undercover champ acting like anything but not to draw any attention on himself and end up not only behind bars but in the electric chair. In the end Jack showed just what kind of man he is by not fighting the big fight and against all the odds dramatically winning at the last moment but by going four brutal rounds to get the money for his new found family at the date farm including his girl Peggy, Gloria Dickson, to open up a gas station with it. <br /><br />Giving the European champ Gaspar Rutchek, Frank Riggi, the fight of his life and getting $2,000.00, thats $500.00 a round, for doing it Jack showed everyone who looked up to him like the \"Arizona Kids\" that sometimes taking a punch is far braver and more courageous then throwing one.The fact that Jack could have easily clobbered Rutched but didn't in order not to expose himself to the police, as on the loose killer Johnnie Bradfield. But instead went as far as he could taking everything that Rutchek could throw at him to help out his friends showed more then all the fights that he won in the boxing ring put together. <br /><br />I for one didn't find the ending of the movie contrived at all but fitting right in with the story. The cop Morty Phelam, Claude Rains, who came to Arizona from New York to arrest Jack had to live with for years the fact that he once sent an innocent man to the electric chair. We were told all this right at the start of the movie. Why knowing that Jack/Johnnie was innocent of the murder that he's charged with and not knowing for sure if he'll be found innocent of it in a court of law would he want to make the same terrible mistake again? I can easily see this happening in real life why not then in the movies.                                                                                               \n",
       "14022  A true dark noir movie and a very graphic film, nice storyline of a man pursuing redemption, that may have just left it all too late. Visually there are some really nice scenes artistically amazing as to what can be done with a minimal budget. Full marks to Gareth Maxwell Roberts and team, I look forward to the next project with new ideas although hopefully more British actors would be great. Lisa Ray looked lovely not seen her before and hope to see her again in the future. Subject all interesting Sex,Drugs and Violence. Bring it on. I would definitely say to rent this one and check it out if you're in the mood for a semi moody noir.                                                                                                                                                                                                                                                                                                                                                                                                                                                                                                                                                                                                                                                                                                                                                                                                                                                                                                                                                                                                                                                                                                                                                                                                                                                                                                                                                                                                                                                                                                                                                                                                                                                                                                                                                                                                                                                                                                                                                                                                                                                                                                                                                                                                                                                                                                                                                                                                                                                                                                                                                                                                                                                                                                                                                                                                                                                                                                                                                                                                                                                                                                                                                                                                                                                                                                                                                                                                                                                                                                                                                                                                                                     \n",
       "34108  Awful! Awful! Awful! No, I didn't like it. It was obvious what the intent of the film was: to track the wheeling and dealing of the \"movers and shakers\" who produce a film. In some cases, these are people who represent themselves as other than what they are. I didn't need a film to tell me how shallow some of the people in the film industry are. I suppose I'm at fault really because I expected something like \"Roman Holiday\".<br /><br />I'm not a movie-maker nor do I take film classes but it appeared to me that the film consisted of a series of 'two-shots' (in the main) where the actors(!) had been supplied with a loose plot-line and they were to improvise the dialogue. Henry Jaglon makes the claim that he along with Victoria Foyt actually wrote the screenplay but the impression was that the actors, cognisant of the general direction of the film, extemporised the dialogue - and it was not always successful. Such a case in point was when Ron Silver made some remark which really didn't flow along the line of the conversation (and I'm not going back to look for it!) and Greta Scacchi broke into laughter even though they were supposed to be having a serious conversation, because Silver's remark was such a non sequitur. You get the impression too that one actor deliberately tries to 'wrong foot' the other actor and break his/her concentration. Another instance of this is when a producer tells Silver to \"bring the &*%#@#^ documents\" (3 times). Silver looked literally lost for words. I have seen one other film which looked like a series of drama workshops on improvisation and that was awful too!<br /><br />The fact that Jaglon was able to attract Greta Scacchi (no stranger to Australia), Ron Silver, Anouk Ami, and Maximilian Schell suggests it was a 'slow news week' for them. Peter Bogdanovich had a 'what-the-hell-am-I-doing-here' look on his face at all times and I expected to hear him say: \"Look, I'm a director and screenwriter - not an actor\" - which would have been unnecessary to state! Faye Dunaway seemed more interested in promoting her son, Liam. Apart from the jerky delivery of the dialogue, the hand-held camera became irritating even if it was for verisimilitude - as I suspect the \"natural\" dialogue was - and the interest in the principals became subsumed to the interest in the various youths walking along the strand trying to insinuate themselves into shot. That at least approached Cinema Verite. So that, along with the irritating French singing during which I used the mute button, made for a generally disappointing 90-odd minutes.<br /><br />I think we should avoid apotheosising films such as this. Trying to see value in the film where it has little credit in order to substantiate a perceived transcendental level to it is misguided. There was really nothing avant-garde about it. It didn't come across as a work of art and yet it wasn't a documentary either. I know, it was a mocumentary but the real test is whether it is entertaining. I was bored out of my skull! It did have one redeeming feature: it pronounced 'Cannes' correctly so I gave it 3/10.                                                                                                                                                                                                                                                                                                                                                                                                                                                                                                                                                                                                                                                                                                                                                                                                                                                                                                                                                                                                                                                                      \n",
       "23204  Before I saw this film I didn't really expect to much from it, although my friend advised otherwise. Due to this request from my friend I decided I was really going to watch this film. The minute I sat down to view the film I was absolutely blown away. From the credits I was falling of my seat; I just couldn't contain myself. The film is about Hitler in all the glory of comedy. Hynkel is the absolute double for the Jewish Barber, who comes back from fighting in the war. Due to the heroics of the barber, he manages to save one of the germans and by doing that gets a member of the enemy on board, which helps in the struggle which the jews had. But things went wrong and Stolz was arrested, but only then to escape to the confines of the Jewish surburb, 'The Ghetto'. Due to this escape, the german army began searching which meant that the Barber and Stolz got arrested but again they escaped, only to be mistaken for hynkel and consequently takes his poistion. *****THE SPEECH THAT CHAPLIN MAKES AT THE END IS FANTASTIC, IT COMPLIES THE MORALS WHICH SOCIETY COULD ONLY DREAM ABOUT. IN THE SPEECH IT CONTRADICTS THE WHOLE MEANING OF THE FILM BECAUSE OF THE SERIOUNESS AND SINCERENITY WHICH IT ENTAILED, AND IT DEFINATELY WORKS, BECAUSE I DID WALK OUT FEELING GUILTY ABOUT HOW WE LIVE OUR LIVES, LOOKING AT THE SMALLEST THING SUCH AS BEING IGNORANT TO SOMEONE TO THE BIGGEST, MOST PROMINENT THINGS SUCH AS WAR.                                                                                                                                                                                                                                                                                                                                                                                                                                                                                                                                                                                                                                                                                                                                                                                                                                                                                                                                                                                                                                                                                                                                                                                                                                                                                                                                                                                                                                                                                                                                                                                                                                                                                                                                                                                                                                                                                                                                                                                                                                                                                                                                                                                                                                                                                                                                                                                                                                                                                                                                                                                                                                                                                                                                                                                                                                \n",
       "26422  During production, this LWT series was titled 'Rocket To The Moon', a title that everyone on set at the time thought was cheesy enough. Then word came through that it had been retitled 'Reach for the Moon', as if this the addition of this new word would evoke heavy metaphorical meanings involving the relationships and aspirations of the characters. This same heavy handed lack of subtlety and understanding is clear throughout the very fabric of the entire series, and the same tired and boring love-triangle storyline is actually stretched out over 7 episodes! Any television program that decides to use the 'love-triangle' storyline for even a single episode is pushing it, but to smear it over seven episodes is unforgivable. There are reasons to watch however, with the scenery of the Isle of Wight certainly providing a beautiful setting, and the seemingly effortless performance of Lynda Bellingham hitting all the right comedy marks. This, however is not enough. A number of performances are noticeable , especially when placed against the static and emotionless wasteland which Jonathan Kerrigan refers to as his face. I have already mentioned Lynda Bellingham in the role of 'fussy mother' (yes, thats as far as character development and back-story goes), but I was impressed by the actor Maurice Roeves (who is by far the most experienced actor in the cast, having appeared in everything from classic movies such as Richard Attenborough's 'Oh What a Lovely War', and 'The Eagle Has Landed', and TV including Baywatch, Holby City, The Bill, Eastenders, Cheers, Doctor Who in the 80s, Star Trek, and even going to Hollywood with Sylvestor Stallone in 1995s Judge Dredd) whose performance reminded me very much of actual teachers I have met - often incapable men, whose lives are tinged with a very sad streak. It is refreshing to see that Roeves is still getting work, having also appeared in the 1998 British film 'The Acid House' and even more recently alongside the wonderful Maria Bello and Sean Bean in 'The Dark'. The standout reason to watch this series, even though his appearances are very few. Another actor who tries his hardest to elevate the program, is Ben Miles, in the role of the sex-mad 'typical man' brother (once again, what an original character!). As with Roeves, the CV says it all. After elevating this, Miles has since appeared in the Hollywood movie 'V for Vendetta', and the 2001 star studded film 'The Affair of the Necklace', alongside Brian Cox, Adrien Brody, Christopher Walken and Jonathan Pryce. Unfortunately the fairly capable actors I have mentioned are resigned to relatively small roles in comparison to the dramatic driftwood that is Kerrigan and Saira Todd, both of whom seem to have been in Casualty for too long, and haven't yet learned to act. Even the tolerable Frances Grey is made to suffer in the presence of such theatrically fetal mannequins, and unfortunately for her, the lasting memory I have of her from the set, is of the AD asking for another take of a relatively complex shot because during the take, she subconsciously 'pulled her knickers out of her crack!'. Familiar faces appear in each episode - child actors from CBBC programs, and dramas such as '2 Point 4 Children', and other regulars from commercials such as Mr Ben's (\"they'll remember me for this\"), Lynda 'the Oxo lady' Bellingham, and others that I don't even want to remember. Each episode halfheartedly tries to 'deal with issues' such as teenage pregnancy, disruptive pupils, and rocket building(!)... things that Grange Hill was doing better when my parents were young! Overall, this series was a disappointment, and a wasted opportunity to craft a genuinely interesting and well developed drama series. Unfortunately, for them they took the easy route, both in the writing and (for the most part) in the casting. I would recommend both 'Waterloo Road' and 'The Street',to fans of good drama - the latter in particular which managed to achieve this. If you like the Isle of Wight, don't 'reach for the moon', reach for the holiday brochure instead - it probably contains more character development!   \n",
       "10241  Some people have stated that as of the 11th season, South Park has started a trend of leaving behind their politically biting satire for shallow spoofs; but this could not be further from the truth.<br /><br />While this episode does spoof the Living Dead series, there is more. It is a satire of how people treat the homeless. Characters say things like \"They're pretending to be just like us\" or \"They want to be human.\" This episode attacks a culture of people who ignore the lower class who are often just down on their luck.<br /><br />So yes, it is still a satire, and also a wonderful spoof. What more could you want?                                                                                                                                                                                                                                                                                                                                                                                                                                                                                                                                                                                                                                                                                                                                                                                                                                                                                                                                                                                                                                                                                                                                                                                                                                                                                                                                                                                                                                                                                                                                                                                                                                                                                                                                                                                                                                                                                                                                                                                                                                                                                                                                                                                                                                                                                                                                                                                                                                                                                                                                                                                                                                                                                                                                                                                                                                                                                                                                                                                                                                                                                                                                                                                                                                                                                                                                                                                                                                                                                                                                                                                                                                                       \n",
       "24821  At the time I am writing this I see out of over 15,000 votes it has a 5.8 rating. Something is wrong with that picture. Personally I give it a 10. I can see a 7 at the lowest or a possible 8 if it was rated by people that see this movie for what it truly is. It is a movie based on a comic book hero. This movie won more than it's share of awards. Won 3 Oscars. Another 5 wins & 26 nominations .... right there tells me it's better than a 5.8. Some great acting from some very good actors, some great special effects and in my opinion will be if not already a classic for years to come. If you're looking for pure entertainment be sure to check out Dick Tracy. Definitely a movie you can watch more than a few times. Al Pacino is great as Big Boy Caprice.                                                                                                                                                                                                                                                                                                                                                                                                                                                                                                                                                                                                                                                                                                                                                                                                                                                                                                                                                                                                                                                                                                                                                                                                                                                                                                                                                                                                                                                                                                                                                                                                                                                                                                                                                                                                                                                                                                                                                                                                                                                                                                                                                                                                                                                                                                                                                                                                                                                                                                                                                                                                                                                                                                                                                                                                                                                                                                                                                                                                                                                                                                                                                                                                                                                                                                                                                                                                                                                                                                                    \n",
       "\n",
       "       label  \n",
       "4779   1      \n",
       "12054  0      \n",
       "37408  1      \n",
       "14767  1      \n",
       "14022  1      \n",
       "34108  0      \n",
       "23204  1      \n",
       "26422  0      \n",
       "10241  1      \n",
       "24821  1      "
      ]
     },
     "execution_count": 9,
     "metadata": {},
     "output_type": "execute_result"
    }
   ],
   "source": [
    "train_data.sample(10)"
   ]
  },
  {
   "cell_type": "markdown",
   "metadata": {},
   "source": [
    "###### Let's take a look at some statistical figures for word count. "
   ]
  },
  {
   "cell_type": "code",
   "execution_count": 10,
   "metadata": {},
   "outputs": [],
   "source": [
    "train_data['text']= train_data['text'].astype(str)\n",
    "train_data['word_count'] = train_data['text'].apply(lambda x : len(x.split()))"
   ]
  },
  {
   "cell_type": "code",
   "execution_count": 11,
   "metadata": {},
   "outputs": [
    {
     "data": {
      "text/plain": [
       "count    40000.000000\n",
       "mean     231.339250  \n",
       "std      171.194123  \n",
       "min      4.000000    \n",
       "25%      126.000000  \n",
       "50%      173.000000  \n",
       "75%      282.000000  \n",
       "max      2470.000000 \n",
       "Name: word_count, dtype: float64"
      ]
     },
     "execution_count": 11,
     "metadata": {},
     "output_type": "execute_result"
    }
   ],
   "source": [
    "train_data.word_count.describe()"
   ]
  },
  {
   "cell_type": "markdown",
   "metadata": {},
   "source": [
    "### Train SVC model "
   ]
  },
  {
   "cell_type": "code",
   "execution_count": 12,
   "metadata": {},
   "outputs": [],
   "source": [
    "TF_PARAMS = {\n",
    "    #'tokenizer': tweet_tok.tokenize,\n",
    "    'analyzer': 'word',\n",
    "    'max_df': 0.5431858441280838,\n",
    "    'use_idf': True,\n",
    "    'smooth_idf': True,\n",
    "    'sublinear_tf': True,\n",
    "    'ngram_range': (1,4),\n",
    "    'lowercase': True\n",
    "   # 'stop_words': STOPWORDS\n",
    "\n",
    "}\n",
    "\n",
    "SVC_PARAMS  = {\n",
    "    'fit_intercept': True,\n",
    "    #'max_iter': 2900,\n",
    "    'tol': 0.019114513977298204,\n",
    "    'C': 0.7962740670237443,\n",
    "    'class_weight': 'balanced',\n",
    "    'penalty': 'l2',\n",
    "    'multi_class': 'ovr'\n",
    "    }"
   ]
  },
  {
   "cell_type": "code",
   "execution_count": 13,
   "metadata": {},
   "outputs": [
    {
     "name": "stdout",
     "output_type": "stream",
     "text": [
      "0.9094\n",
      "              precision    recall  f1-score   support\n",
      "\n",
      "           0       0.92      0.90      0.91      2495\n",
      "           1       0.90      0.92      0.91      2505\n",
      "\n",
      "    accuracy                           0.91      5000\n",
      "   macro avg       0.91      0.91      0.91      5000\n",
      "weighted avg       0.91      0.91      0.91      5000\n",
      "\n"
     ]
    }
   ],
   "source": [
    "\n",
    "SVC_pipeline = Pipeline([\n",
    "                    ('tfidf', TfidfVectorizer(**TF_PARAMS)),\n",
    "                    ('clf', OneVsRestClassifier(CalibratedClassifierCV(LinearSVC(**SVC_PARAMS)))),\n",
    "                     \n",
    "                ])\n",
    "\n",
    "SVC_pipeline.fit(train_data.text, train_data.label)\n",
    "y_preds = SVC_pipeline.predict(test_data.text)\n",
    "report = classification_report(test_data.label, y_preds)\n",
    "print(str(np.mean(test_data.label == y_preds)))\n",
    "print(report)\n",
    "\n"
   ]
  },
  {
   "cell_type": "markdown",
   "metadata": {},
   "source": [
    "### Define & Wrap predict_prob function"
   ]
  },
  {
   "cell_type": "code",
   "execution_count": 15,
   "metadata": {},
   "outputs": [],
   "source": [
    "def predict_proba(inputs):\n",
    "\n",
    "    return SVC_pipeline.predict_proba(inputs)"
   ]
  },
  {
   "cell_type": "code",
   "execution_count": 16,
   "metadata": {},
   "outputs": [],
   "source": [
    "from checklist.pred_wrapper import PredictorWrapper\n",
    "wrapped_pp = PredictorWrapper.wrap_softmax(predict_proba)"
   ]
  },
  {
   "cell_type": "code",
   "execution_count": 17,
   "metadata": {},
   "outputs": [
    {
     "data": {
      "text/plain": [
       "(array([0, 1, 0, 0], dtype=int64),\n",
       " array([[0.99174595, 0.00825405],\n",
       "        [0.01146092, 0.98853908],\n",
       "        [0.99761104, 0.00238896],\n",
       "        [0.90312614, 0.09687386]]))"
      ]
     },
     "execution_count": 17,
     "metadata": {},
     "output_type": "execute_result"
    }
   ],
   "source": [
    "wrapped_pp(['This is not a good book', 'This is a good book', 'This book is okay', 'I do not like this book'])"
   ]
  },
  {
   "cell_type": "markdown",
   "metadata": {},
   "source": [
    "### Import pre-defined Checklist Test Suite "
   ]
  },
  {
   "cell_type": "code",
   "execution_count": 26,
   "metadata": {},
   "outputs": [],
   "source": [
    "##Import checlist\n",
    "import checklist\n",
    "from checklist.test_suite import TestSuite\n",
    "suite_path = 'sentiment_suite.pkl'\n",
    "suite = TestSuite.from_file(suite_path)"
   ]
  },
  {
   "cell_type": "code",
   "execution_count": 27,
   "metadata": {},
   "outputs": [
    {
     "name": "stdout",
     "output_type": "stream",
     "text": [
      "Running single positive words\n",
      "Predicting 19 examples\n",
      "Running single negative words\n",
      "Predicting 23 examples\n",
      "Running Sentiment-laden words in context\n",
      "Predicting 5994 examples\n",
      "Running simple negations: negative\n",
      "Predicting 4374 examples\n",
      "Running simple negations: not negative\n",
      "Predicting 4698 examples\n",
      "Running conflicting statements about past and present\n",
      "Predicting 2800 examples\n"
     ]
    }
   ],
   "source": [
    "suite.run(wrapped_pp, overwrite = True)"
   ]
  },
  {
   "cell_type": "code",
   "execution_count": 28,
   "metadata": {},
   "outputs": [
    {
     "name": "stdout",
     "output_type": "stream",
     "text": [
      "Vocabulary\n",
      "\n",
      "single positive words\n",
      "Test cases:      19\n",
      "Fails (rate):    0 (0.0%)\n",
      "\n",
      "\n",
      "single negative words\n",
      "Test cases:      23\n",
      "Fails (rate):    5 (21.7%)\n",
      "\n",
      "Example fails:\n",
      "0.7 unhappy\n",
      "----\n",
      "0.7 creepy\n",
      "----\n",
      "0.9 rough\n",
      "----\n",
      "\n",
      "\n",
      "Sentiment-laden words in context\n",
      "Test cases:      5994\n",
      "Fails (rate):    1105 (18.4%)\n",
      "\n",
      "Example fails:\n",
      "0.9 This series is unpleasant.\n",
      "----\n",
      "0.0 This script was exciting.\n",
      "----\n",
      "0.0 The script is exceptional.\n",
      "----\n",
      "\n",
      "\n",
      "\n",
      "\n",
      "Temporal\n",
      "\n",
      "conflicting statements about past and present\n",
      "Test cases:      2800\n",
      "Fails (rate):    1829 (65.3%)\n",
      "\n",
      "Example fails:\n",
      "0.8 I used to think this movie was exceptional, but now I think it is sad.\n",
      "----\n",
      "1.0 I think this actor is hard, although in the past I thought he was fantastic.\n",
      "----\n",
      "1.0 I think this actor is rough,  in the past I thought he was happy.\n",
      "----\n",
      "\n",
      "\n",
      "\n",
      "\n",
      "Negation\n",
      "\n",
      "simple negations: negative\n",
      "Test cases:      4374\n",
      "Fails (rate):    2698 (61.7%)\n",
      "\n",
      "Example fails:\n",
      "0.6 I would never say I recommend that crew.\n",
      "----\n",
      "0.9 I don't think I like this series.\n",
      "----\n",
      "1.0 I can't say I recommend this crew.\n",
      "----\n",
      "\n",
      "\n",
      "simple negations: not negative\n",
      "Test cases:      4698\n",
      "Fails (rate):    4308 (91.7%)\n",
      "\n",
      "Example fails:\n",
      "0.1 This isn't an average production house.\n",
      "----\n",
      "0.0 This isn't a dreadful movie.\n",
      "----\n",
      "0.0 It is not a terrible series.\n",
      "----\n",
      "\n",
      "\n",
      "\n",
      "\n"
     ]
    }
   ],
   "source": [
    "suite.summary()"
   ]
  },
  {
   "cell_type": "code",
   "execution_count": 29,
   "metadata": {},
   "outputs": [
    {
     "name": "stdout",
     "output_type": "stream",
     "text": [
      "Please wait as we prepare the table data...\n"
     ]
    },
    {
     "data": {
      "application/vnd.jupyter.widget-view+json": {
       "model_id": "048d345008634828b40104254eecc0a6",
       "version_major": 2,
       "version_minor": 0
      },
      "text/plain": [
       "SuiteSummarizer(stats={'npassed': 0, 'nfailed': 0, 'nfiltered': 0}, test_infos=[{'name': 'single positive word…"
      ]
     },
     "metadata": {},
     "output_type": "display_data"
    }
   ],
   "source": [
    "suite.visual_summary_table()"
   ]
  },
  {
   "cell_type": "code",
   "execution_count": null,
   "metadata": {},
   "outputs": [],
   "source": []
  }
 ],
 "metadata": {
  "kernelspec": {
   "display_name": "Python 3",
   "language": "python",
   "name": "python3"
  },
  "language_info": {
   "codemirror_mode": {
    "name": "ipython",
    "version": 3
   },
   "file_extension": ".py",
   "mimetype": "text/x-python",
   "name": "python",
   "nbconvert_exporter": "python",
   "pygments_lexer": "ipython3",
   "version": "3.8.3"
  }
 },
 "nbformat": 4,
 "nbformat_minor": 4
}
