{
 "cells": [
  {
   "cell_type": "markdown",
   "metadata": {},
   "source": [
    "### Importing Libraries"
   ]
  },
  {
   "cell_type": "code",
   "execution_count": 1,
   "metadata": {},
   "outputs": [],
   "source": [
    "import numpy as np\n",
    "import pandas as pd\n",
    "import transformers\n",
    "import torch\n",
    "from torch.utils.data import Dataset, DataLoader, RandomSampler, SequentialSampler\n",
    "from transformers import BertTokenizer, BertModel, BertConfig\n",
    "import glob \n",
    "import os\n",
    "import fasttext\n",
    "import re\n",
    "from sklearn import metrics\n",
    "# import pyLDAvis.gensim\n",
    "from sklearn.decomposition import NMF, LatentDirichletAllocation, TruncatedSVD\n",
    "from sklearn.feature_extraction.text import CountVectorizer\n",
    "from sklearn.feature_extraction.text import TfidfVectorizer\n",
    "from sklearn.semi_supervised import LabelSpreading\n",
    "from sklearn.preprocessing import FunctionTransformer\n",
    "from sklearn.linear_model import SGDClassifier\n",
    "from sklearn.multiclass import OneVsRestClassifier\n",
    "from sklearn.preprocessing import FunctionTransformer\n",
    "from sklearn import preprocessing\n",
    "from sklearn import metrics\n",
    "#from xgboost import XGBClassifier\n",
    "from sklearn.pipeline import Pipeline\n",
    "from nltk.corpus import stopwords\n",
    "from nltk.tokenize import TweetTokenizer\n",
    "from sklearn.model_selection import train_test_split\n",
    "from sklearn.svm import LinearSVC\n",
    "from sklearn.metrics import classification_report\n",
    "from sklearn.calibration import CalibratedClassifierCV\n",
    "from sklearn.linear_model import LogisticRegression\n",
    "\n",
    "import checklist\n",
    "from checklist.editor import Editor\n",
    "from checklist.perturb import Perturb\n",
    "from checklist.test_types import MFT, INV, DIR\n",
    "import numpy as np\n",
    "import torch\n",
    "import dill\n",
    "import pickle\n"
   ]
  },
  {
   "cell_type": "markdown",
   "metadata": {},
   "source": [
    "#### Setting up device for GPU usage"
   ]
  },
  {
   "cell_type": "code",
   "execution_count": 2,
   "metadata": {},
   "outputs": [],
   "source": [
    "from torch import cuda\n",
    "device = 'cuda' if cuda.is_available() else 'cpu'"
   ]
  },
  {
   "cell_type": "code",
   "execution_count": 3,
   "metadata": {},
   "outputs": [],
   "source": [
    "#lang = 'english'\n",
    "#STOPWORDS = stopwords.words(LANG)"
   ]
  },
  {
   "cell_type": "markdown",
   "metadata": {},
   "source": [
    "#### Setting display options"
   ]
  },
  {
   "cell_type": "code",
   "execution_count": 4,
   "metadata": {},
   "outputs": [],
   "source": [
    "pd.set_option('display.max_rows', 10)\n",
    "pd.set_option('display.max_columns', 500)\n",
    "pd.set_option('display.width', 500)\n",
    "pd.set_option('display.max_colwidth', 0)"
   ]
  },
  {
   "cell_type": "markdown",
   "metadata": {},
   "source": [
    "### Import Train, Val & Test Sets"
   ]
  },
  {
   "cell_type": "code",
   "execution_count": 5,
   "metadata": {},
   "outputs": [],
   "source": [
    "train_data = pd.read_csv('./data/Train.csv')\n",
    "val_data = pd.read_csv('./data/Valid.csv')\n",
    "test_data = pd.read_csv('./data/Test.csv')"
   ]
  },
  {
   "cell_type": "code",
   "execution_count": 6,
   "metadata": {},
   "outputs": [
    {
     "data": {
      "text/plain": [
       "0    20019\n",
       "1    19981\n",
       "Name: label, dtype: int64"
      ]
     },
     "execution_count": 6,
     "metadata": {},
     "output_type": "execute_result"
    }
   ],
   "source": [
    "train_data.label.value_counts()"
   ]
  },
  {
   "cell_type": "code",
   "execution_count": 7,
   "metadata": {},
   "outputs": [
    {
     "data": {
      "text/plain": [
       "1    2514\n",
       "0    2486\n",
       "Name: label, dtype: int64"
      ]
     },
     "execution_count": 7,
     "metadata": {},
     "output_type": "execute_result"
    }
   ],
   "source": [
    "val_data.label.value_counts()"
   ]
  },
  {
   "cell_type": "code",
   "execution_count": 7,
   "metadata": {},
   "outputs": [
    {
     "data": {
      "text/plain": [
       "1    2505\n",
       "0    2495\n",
       "Name: label, dtype: int64"
      ]
     },
     "execution_count": 7,
     "metadata": {},
     "output_type": "execute_result"
    }
   ],
   "source": [
    "test_data.label.value_counts()"
   ]
  },
  {
   "cell_type": "code",
   "execution_count": 8,
   "metadata": {
    "collapsed": true
   },
   "outputs": [
    {
     "data": {
      "text/html": [
       "<div>\n",
       "<style scoped>\n",
       "    .dataframe tbody tr th:only-of-type {\n",
       "        vertical-align: middle;\n",
       "    }\n",
       "\n",
       "    .dataframe tbody tr th {\n",
       "        vertical-align: top;\n",
       "    }\n",
       "\n",
       "    .dataframe thead th {\n",
       "        text-align: right;\n",
       "    }\n",
       "</style>\n",
       "<table border=\"1\" class=\"dataframe\">\n",
       "  <thead>\n",
       "    <tr style=\"text-align: right;\">\n",
       "      <th></th>\n",
       "      <th>text</th>\n",
       "      <th>label</th>\n",
       "    </tr>\n",
       "  </thead>\n",
       "  <tbody>\n",
       "    <tr>\n",
       "      <th>2280</th>\n",
       "      <td>THE AFFAIR is a very bad TV movie from the 1970s starring the then-husband-wife team of Robert Wagner and Natalie Wood as hesitant lovers. She has polio and leads a reclusive existence as a pop song writer. He's an ambitious lawyer who is very outgoing and absolutely smitten with her. Their affair, such as it is, is doomed from the start, and she knows it, but goes along with it anyway. Two things to watch for if you are trapped into watching this: Wood's Jane Fonda hairdo that is never mussed, no matter what, and a tune she sings early in this dreadful flick. She sings it for four or five or six minutes, so you know it's classic padding between commercials. It also is one of the worst songs ever written, and the woman doing Wood's singing voice should have been shot and put out of her misery. Also, keep an eye out for all the peasant tops and dresses. By comparison, Wagner looks relatively timeless, with close-cropped hair and sporting a series of classic suits.</td>\n",
       "      <td>0</td>\n",
       "    </tr>\n",
       "    <tr>\n",
       "      <th>36421</th>\n",
       "      <td>This overrated, short-lived series (a measly two seasons) is about as experimental and unique as a truck driver going to a strip bar. I am not quite sure what they mean by \"ground-breaking\" and \"original\" when they fawn all over Lynch and his silly little TV opus. What exactly is their criteria of what is original? Sure, compared to the \"Bill Cosby Show\" or \"Hill Street Blues\" it's original. Definitely. Next to \"Law &amp; Order\" TP spews originality left and right.&lt;br /&gt;&lt;br /&gt;Fans of TP often say that the show was canceled because too many viewers weren't smart enough, open enough for the show's supposed \"weirdness\", its alleged wild ingenuity, or whatever. As a fan of weirdness myself, I have to correct that misconception. There is nothing too off-the-wall about TP; it is a merely watchable, rather silly whodunit that goes around in circles, spinning webs in every corner but (or because of it) ultimately going nowhere. The supposed weirdness is always forced; the characters don't behave in a strange way as much as they behave in an IDIOTIC way half the time. There's a difference...&lt;br /&gt;&lt;br /&gt;Whenever I watch the \"weird dream\" sequence in \"Living In Oblivion\" in which the dwarf criticizes the director (Buscemi) for succumbing to the tired old let's-use-a-midget-in-a-dream-scene cliché, I think of Lynch. You want weird? \"Eraserhead\" is weird - in fact, it's beyond weird, it's basically abstract. You want a unique TV show? Watch \"The Prisoner\". You want a strange-looking cast? Felini's and Leone's films offer that. TP looks like an overly coiffed TV crime drama in which all the young people look like fashion models. The cast gives TP a plastic look. Kens &amp; Barbies en masse.&lt;br /&gt;&lt;br /&gt;In fact, one of the producers of TP said that Lynch was looking for \"unique faces\" for the series. Unique faces? Like Lara Flynn Boyle's? Sheryll Fenn's? Like those effeminate-faced \"hunks\" straight out of men's catalogs (or gay magazines)? Don't get me wrong; there is nothing wrong with getting an attractive cast, especially with beauties like Fenn (the way Madonna would look if she were 1000 times prettier), but then don't go around saying you're making a \"weird show with weird-looking people\". And I have never understood Lynch's misguided fascination with Kyle MacLachlan (I should get a medal for bothering to spell his name right). He is not unlikable, but lacks charisma, seeming a little too bland and polished. His character's laughable \"eccentricities\" were not at all interesting, merely one of Lynch's many attempts to force the weirdness, trying hard to live up to his reputation - him having completely lost his edge but that time. Everything Lynch made post-\"Elephant Man\" was very much sub-par compared to his first two movies. What followed were often mediocre efforts that relied on Lynch's relatively small but fanatical fan base to keep him in the public eye by interpreting meanings into his badly put-together stories that don't hold any water on closer scrutiny. In other words, Lynch is every intellectual-wannabe's darling. &lt;br /&gt;&lt;br /&gt;So Laura Palmer was killed by her Dad...? He was obsessed by the devil or some such nonsense. That's the best this \"great mind\" could come up with... You've got B-movie horror films that end with more originality. &lt;br /&gt;&lt;br /&gt;Lynch is neither bright nor hard-working enough to come up with a terrific story.&lt;br /&gt;&lt;br /&gt;Go to http://rateyourmusic.com/~Fedor8, and check out my \"TV &amp; Cinema: 150 Worst Cases Of Nepotism\" list.</td>\n",
       "      <td>0</td>\n",
       "    </tr>\n",
       "    <tr>\n",
       "      <th>20648</th>\n",
       "      <td>Coinciding with the start of the baby boom, the years after World War II saw an unprecedented exodus of Americans moving out of their city apartments into the suburbs where they can fulfill their dreams of owning their own homes. Directed by H.C. Potter and co-written by Norman Panama and Melvin Frank (\"White Christmas\"), this lightweight but surprisingly observant 1948 screwball comedy captures the feeling of that period very well. Of course, it helps to have a trio of expert farceurs  Cary Grant, Myrna Loy and an especially acerbic Melvyn Douglas  head the proceedings with their natural likability at odds with the escalating frustrations of home ownership. Even though the film is sixty years old now, there is a timeless quality to the Blandings' dream and the barriers they face in achieving it. Obviously, Hollywood thinks so since it's been remade at least twice - first as a very physical Tom Hanks comedy, 1986's \"The Money Pit\", and again last year with Ice Cube's \"Are We Done Yet?\". One look at HGTV's programming schedule will show you how the situations explored here still resonate today.&lt;br /&gt;&lt;br /&gt;The plot begins with ad man Jim Blandings, his wife Muriel and their two daughters cramped into a two bedroom-one bath Manhattan apartment. Rather than pursue Muriel's idea to renovate the apartment for $7,000, Jim sees a photo of a Connecticut house in a magazine and realizes this is where they need to move. With the help of an opportunistic real estate agent and against the advice of their attorney and family friend Bill Cole, the Blandings decide to buy a ramshackle house badly in need of repair. However, the foundation sags so badly that the house needs to be torn down in favor of a new one. This sparks the Blandings to push the architect to design a house so excessive that the second floor is twice as big as the first. Costs rise with each new complication, tempers flare, and even a romantic triangle is imagined among, Jim, Muriel and Bill. Priorities finally sort themselves out but not before some funny slapstick scenes and clever dialogue that tweaks the not-so-blissful ignorance of the new homeowners.&lt;br /&gt;&lt;br /&gt;With his double takes and flawless line delivery, Grant is infallible in this type of farce, and Jim Blandings epitomizes his more domesticated mid-career characters. In a role originally meant for Irene Dunne, Myrna Loy shows why she was Hollywood's perfect wife. She doesn't get many of the funnier lines, but she combines her special blend of flightiness and sauciness to make Muriel an appealing character on her own. Watch her deftly maneuver the overly agreeable house painter with her absurdly idiosyncratic color palette. As avuncular, pipe-smoking Bill (\"Cole",
       "Bill Cole\"), Melvyn Douglas shows his natural, easy-going élan as Grant's foil. Smaller roles are filled expertly with particularly memorable turns by Harry Shannon as the laconic well-digger Mr. Tesander, Lurene Tuttle as Jim's officious assistant Mary, and Louise Beavers as the Blandings' lovable maid Gussie. The 2004 DVD provides some intriguing vintage material including two radio versions of the movie - the first a 1949 version that did end up pairing Grant and Dunne and then a second 1950 version coupling Grant with his then-wife, actress Betsy Drake. A most appropriate 1949 cartoon, \"The House of Tomorrow\", is also included giving us a comical tour of a futuristic dream house. The original theatrical trailers for ten of Grant's film classics complete the extras.</td>\n",
       "      <td>1</td>\n",
       "    </tr>\n",
       "    <tr>\n",
       "      <th>39489</th>\n",
       "      <td>I have a problem with the movie snobs who consider Americans to be uncouth semi - literates unable to appreciate the subtlety of the more sophisticated Europeans,les Francais,les Italiens...just about anybody from le continong to whom English is a foreign language.If the humour in \"My Father the Hero\" is different from that in \"Mon Pere ce heros\" it is because the French sense of humour is different from that of the American.Not better,not \"more clever\",just different. If you think it is crass for Hollywood to \"borrow\" from the French cinema just consider how much the French cinema has borrowed from Hollywood in the first place.Where would Belmondo and Delon have been without Bogart?Truffaut without Hitchcock?Jerry Lewis - not known for his subtle and cerebral style is idolised in France.Go figure........ Monsieur Depardieu is exceptionally good as the hapless divorced father of a precocious 14 year old daughter on holiday in the Bahamas together. Unbeknowst to him,she presents him to the other people at the hotel as her lover so as to make herself more interesting to a boy she has her eye on .Not surprisingly,complications ensue. There are \"hommages\" to \"Green Card\" and \"Cyrano de Bergerac\" amusingly inserted and M.Depardieu goes along with it all very good - naturedly. He does a good Maurice Chevaler impression with \"Thank Heaven for little girls\" which is in fact funny and rather poignant as his audience,all of whom believe him to be the lover of a 14 year old girl,get up and leave two - by - two as he warbles away,blissfully unaware of what is happening.When he turns round at the end of the song to acknowledge the expected applause the expression on his face is priceless. Without him the movie would be very average indeed.With his huge shambling figure dominating the screen it is a lot of fun.No pecs,no six pack - just a real proper human - type being.Formidable!</td>\n",
       "      <td>1</td>\n",
       "    </tr>\n",
       "    <tr>\n",
       "      <th>1485</th>\n",
       "      <td>I watched this movie after having so much of trouble in downloading it through rapidshare. And I have to say, it did not deserve it.&lt;br /&gt;&lt;br /&gt;Parinda was so hyped, that I was really looking forward to watch it.&lt;br /&gt;&lt;br /&gt;Parinda is one of those movies which fail to satisfy the standards set by other good Indian film-makers, despite having a great story. It was even more pathetic to know, that the story itself was not original, it was loosely based on the classic \"On the Waterfront\".&lt;br /&gt;&lt;br /&gt;Anil Kapoor was irritating, especially when he comes from America. The direction lacked quality many a times, except a few in-between scenes.&lt;br /&gt;&lt;br /&gt;Give this script to any of them - Ram Gopal Verma, Deepa Mehta, Mahesh Bhatt, Sudhir Mishra, and I'm 100% sure, they'll make a mind-blowing movie out of it.&lt;br /&gt;&lt;br /&gt;I'm not saying Parinda was bad. It was just not good enough.</td>\n",
       "      <td>0</td>\n",
       "    </tr>\n",
       "    <tr>\n",
       "      <th>4152</th>\n",
       "      <td>Legendary pop star Steve Alaimo (\"Don't Let the Sun Catch You Crying\") stars as an unlikable stock car racer whose career has hit the skids (ha ha) because he constantly crashes his car (or as he laments, \"I'm tired of being run down by every grease monkey that gets behind the wheel\"). He falls into a bad crowd of humorously inept Nazi bikers, improbably named Jeeter, Banjo, Fats, and, er, Linda. Fats is the most likable of the bunch; he took a surfboard to the back of the skull and now only communicates through grunts, sort of a Harley Davidson Leatherface.&lt;br /&gt;&lt;br /&gt;Anyway, Steve is fooled by the cops into catching the dastardly crooks in the middle of one of their bank robberies. The gang only robs banks for \"kicks, man\". I guess they give the money to charity. Steve fails constantly, the bikers get greasier, and the whole thing never comes off as daring because it's so dull. This movie looks like it was filmed through a grease-soaked paper towel. Not since \"Necromantic\" has a movie so trampled my soul.&lt;br /&gt;&lt;br /&gt;The guy who played Fats went on to direct \"Deranged\", the Ed Gein biopic starring Robert Blossom.&lt;br /&gt;&lt;br /&gt;Anyway, in summary: Wild Rebels: Hilarious on MST3K, dreadful everywhere else.</td>\n",
       "      <td>0</td>\n",
       "    </tr>\n",
       "    <tr>\n",
       "      <th>30818</th>\n",
       "      <td>I remember when this came out a lot of kids were nuts about it. I guess I was a bit too old to get all excited and I was a fan of real martial arts films and always found this a bit cheesy.&lt;br /&gt;&lt;br /&gt;In the early 90's we were swamped with programs such as this making kids feel like they could fight and be a power ranger or an equal to these kids on 3 Ninjas. I think eventually parents and film makers alike got sick of it because all we had in reality was abunch of kids going around punching and hitting everyone.&lt;br /&gt;&lt;br /&gt;Many kids movies have some big point they're trying to make and its nice for your kids to watch and get the message, this one doesn't have any message at all...it just exploits a million difference things in less than 90 minutes.&lt;br /&gt;&lt;br /&gt;The movie has no great visual qualities but would one expect it to? The acting is pretty bad. Victor Wong is a cool actor but it was embarrassing to see him here.. The short, fat, gimped eyed old fart as a powerful ninja that was just hilarious. The kids over acted way too much and the youngest ninja Tum Tum was maybe the worst kid actor I have ever seen.&lt;br /&gt;&lt;br /&gt;The movie has a plot that anyone knows before they even read the review. 3 ninjas...yea you know they're gonna fight a bunch of bad guys and win obviously... Need I say more. Sorry if I spoiled it for anyone.&lt;br /&gt;&lt;br /&gt;With all that said KIDS WILL LOVE IT. This movie is aimed at kids and only children could enjoy it. If you don't mind your kid seeing movies about kids fighting this is a good movie to let them see. If you don't mind allowing your children to see complete garbage that has nothing to do with real martial arts, real acting or reality period then you have found a movie for your kids... I say kids because I think even the girls will like it... I recall all the girls having a crush on Rocky.&lt;br /&gt;&lt;br /&gt;2 out of 10 stars because I think you can make a movie for kids and still make it enjoyable for adults..this movie failed big time at that.. It is beyond cheesy and nothing original or unique and I would not allow a child of mine to watch it... Kung Fu the TV series is on DVD and there's tons of great Shaw Brothers films out there...Why not show your children things that will really entertain them and not make them dumb along the way, perhaps even teach them some moves and not just how to kick a man between the legs as grandpa did on 3 Ninjas...no no no...never kick a man between the legs ...never .. thats so unninja like.</td>\n",
       "      <td>0</td>\n",
       "    </tr>\n",
       "    <tr>\n",
       "      <th>25512</th>\n",
       "      <td>We start all of our reviews with the following information. My wife and I have seen nearly 100 movies per year for the past 15 years. Recently, we were honored by receiving lifetime movie passes to any movie any time at no cost! So we can see whatever we want whenever we want. The point of this is that CRITICS count for ZERO. Your local critics or the national critics like Ebert are really no different than you or me. The only difference is that they get to write about the movie and are forced to see hundreds of movies whether they want to or not.Therefore, it is our belief that if you get your monies worth for two hours of enjoyment that is good enough for us! We NEVER EVER listen or read the critics. We only care about our friends and those who we know like the same things as us. Well enough about that. &lt;br /&gt;&lt;br /&gt;When Meryl Streep the head of the NSC in the movie says \"The United States does not torture\" it got a big laugh at this movie. It is of course a lie that the Bush Administration has denied time and again. It is a very good movie and it is scary in what they can do to us as we lose all of our civil rights. They can simply \"snatch\" you anywhere and tell know one that they have done it. In this case, they snatch a man who has a name similar to those who killed thousands on 9-11. He is of course just like you or I. And so they take him to a secret location outside of the US to torture and waterboard him. &lt;br /&gt;&lt;br /&gt;Very frightening. Well acted by Jake and Reese and the entire cast.</td>\n",
       "      <td>1</td>\n",
       "    </tr>\n",
       "    <tr>\n",
       "      <th>25934</th>\n",
       "      <td>CITY HALL is a somewhat mixed bag. Part vignettes of NYC political life, and part moralizing tale. Al Pacino, a Dukakis-esque Boss with Presidential dreams, gives an oft times sullen or subdued performance. There's a couple times when he chews the scenery, and in the case of CITY HALL, this is where he shines. John Cusack gives a subdued and generally flawless performance, without going into caricature of a New Orleans dialect, or sliding into melodrama during the films climax. Danny Aiello as a burrough political chief, is also very good. I love showtunes, too.&lt;br /&gt;&lt;br /&gt;The major problem with CITY HALL, and it is a good movie in many ways, is the general feeling of a lack of momentum. It comes off more like a documentary, than a motion picture. We see the action or follow the story from a detached perspective, and naturally, the viewer doesn't become involved. When the viewer doesn't get involved to a certain degree, they become apathetic towards the characters, and eventually, the plot.&lt;br /&gt;&lt;br /&gt;This tends to alienate, and what should have been a riveting, detail divulging finale, came off as a \"Hmmm...uh...okay.\" They say you \"Can't fight city hall,\" as the tread worn cliche goes. Yet, it still can't stop you from thinking what might have been, if they had just tightened up the screenplay and pacing of this movie.</td>\n",
       "      <td>1</td>\n",
       "    </tr>\n",
       "    <tr>\n",
       "      <th>2970</th>\n",
       "      <td>This film must have been quietly released on some other side of the world, perhaps even in English. Hopefully nobody understood a word, not there's anything to understand in this movie anyways! Haahaa! Call me a nut, but I think this is one of the best movies ever. Why would I come to that conclusion?? Because it's my national pasttime to sabotage horrible films and this one begs for it every other minute! Once I became a fan of Myster Science Theater 3000, I had no doubt in my mind they'd find it somewhere and use it. Sure enough! The version they acquired was entitled \"Cave Dwellers\" using some strange intro footage not even from the film itself (apparently, they were ashamed to use footage from their OWN film!). I can't say I recommend buying this film. Rather, I highly recommend getting the MST3K version. Sure to find it most anywhere MST3K DVD's are sold, don't miss out!</td>\n",
       "      <td>1</td>\n",
       "    </tr>\n",
       "  </tbody>\n",
       "</table>\n",
       "</div>"
      ],
      "text/plain": [
       "                                                                                                                                                                                                                                                                                                                                                                                                                                                                                                                                                                                                                                                                                                                                                                                                                                                                                                                                                                                                                                                                                                                                                                                                                                                                                                                                                                                                                                                                                                                                                                                                                                                                                                                                                                                                                                                                                                                                                                                                                                                                                                                                                                                                                                                                                                                                                                                                                                                                                                                                                                                                                                                                                                                                                                                                                                                                                                                                                                                                                                                                                                                                                                                                                                                                                                                                                                                                                                                                                                                                                                                                                                                       text  \\\n",
       "2280   THE AFFAIR is a very bad TV movie from the 1970s starring the then-husband-wife team of Robert Wagner and Natalie Wood as hesitant lovers. She has polio and leads a reclusive existence as a pop song writer. He's an ambitious lawyer who is very outgoing and absolutely smitten with her. Their affair, such as it is, is doomed from the start, and she knows it, but goes along with it anyway. Two things to watch for if you are trapped into watching this: Wood's Jane Fonda hairdo that is never mussed, no matter what, and a tune she sings early in this dreadful flick. She sings it for four or five or six minutes, so you know it's classic padding between commercials. It also is one of the worst songs ever written, and the woman doing Wood's singing voice should have been shot and put out of her misery. Also, keep an eye out for all the peasant tops and dresses. By comparison, Wagner looks relatively timeless, with close-cropped hair and sporting a series of classic suits.                                                                                                                                                                                                                                                                                                                                                                                                                                                                                                                                                                                                                                                                                                                                                                                                                                                                                                                                                                                                                                                                                                                                                                                                                                                                                                                                                                                                                                                                                                                                                                                                                                                                                                                                                                                                                                                                                                                                                                                                                                                                                                                                                                                                                                                                                                                                                                                                                                                                                                                                                                                                                                      \n",
       "36421  This overrated, short-lived series (a measly two seasons) is about as experimental and unique as a truck driver going to a strip bar. I am not quite sure what they mean by \"ground-breaking\" and \"original\" when they fawn all over Lynch and his silly little TV opus. What exactly is their criteria of what is original? Sure, compared to the \"Bill Cosby Show\" or \"Hill Street Blues\" it's original. Definitely. Next to \"Law & Order\" TP spews originality left and right.<br /><br />Fans of TP often say that the show was canceled because too many viewers weren't smart enough, open enough for the show's supposed \"weirdness\", its alleged wild ingenuity, or whatever. As a fan of weirdness myself, I have to correct that misconception. There is nothing too off-the-wall about TP; it is a merely watchable, rather silly whodunit that goes around in circles, spinning webs in every corner but (or because of it) ultimately going nowhere. The supposed weirdness is always forced; the characters don't behave in a strange way as much as they behave in an IDIOTIC way half the time. There's a difference...<br /><br />Whenever I watch the \"weird dream\" sequence in \"Living In Oblivion\" in which the dwarf criticizes the director (Buscemi) for succumbing to the tired old let's-use-a-midget-in-a-dream-scene cliché, I think of Lynch. You want weird? \"Eraserhead\" is weird - in fact, it's beyond weird, it's basically abstract. You want a unique TV show? Watch \"The Prisoner\". You want a strange-looking cast? Felini's and Leone's films offer that. TP looks like an overly coiffed TV crime drama in which all the young people look like fashion models. The cast gives TP a plastic look. Kens & Barbies en masse.<br /><br />In fact, one of the producers of TP said that Lynch was looking for \"unique faces\" for the series. Unique faces? Like Lara Flynn Boyle's? Sheryll Fenn's? Like those effeminate-faced \"hunks\" straight out of men's catalogs (or gay magazines)? Don't get me wrong; there is nothing wrong with getting an attractive cast, especially with beauties like Fenn (the way Madonna would look if she were 1000 times prettier), but then don't go around saying you're making a \"weird show with weird-looking people\". And I have never understood Lynch's misguided fascination with Kyle MacLachlan (I should get a medal for bothering to spell his name right). He is not unlikable, but lacks charisma, seeming a little too bland and polished. His character's laughable \"eccentricities\" were not at all interesting, merely one of Lynch's many attempts to force the weirdness, trying hard to live up to his reputation - him having completely lost his edge but that time. Everything Lynch made post-\"Elephant Man\" was very much sub-par compared to his first two movies. What followed were often mediocre efforts that relied on Lynch's relatively small but fanatical fan base to keep him in the public eye by interpreting meanings into his badly put-together stories that don't hold any water on closer scrutiny. In other words, Lynch is every intellectual-wannabe's darling. <br /><br />So Laura Palmer was killed by her Dad...? He was obsessed by the devil or some such nonsense. That's the best this \"great mind\" could come up with... You've got B-movie horror films that end with more originality. <br /><br />Lynch is neither bright nor hard-working enough to come up with a terrific story.<br /><br />Go to http://rateyourmusic.com/~Fedor8, and check out my \"TV & Cinema: 150 Worst Cases Of Nepotism\" list.            \n",
       "20648  Coinciding with the start of the baby boom, the years after World War II saw an unprecedented exodus of Americans moving out of their city apartments into the suburbs where they can fulfill their dreams of owning their own homes. Directed by H.C. Potter and co-written by Norman Panama and Melvin Frank (\"White Christmas\"), this lightweight but surprisingly observant 1948 screwball comedy captures the feeling of that period very well. Of course, it helps to have a trio of expert farceurs  Cary Grant, Myrna Loy and an especially acerbic Melvyn Douglas  head the proceedings with their natural likability at odds with the escalating frustrations of home ownership. Even though the film is sixty years old now, there is a timeless quality to the Blandings' dream and the barriers they face in achieving it. Obviously, Hollywood thinks so since it's been remade at least twice - first as a very physical Tom Hanks comedy, 1986's \"The Money Pit\", and again last year with Ice Cube's \"Are We Done Yet?\". One look at HGTV's programming schedule will show you how the situations explored here still resonate today.<br /><br />The plot begins with ad man Jim Blandings, his wife Muriel and their two daughters cramped into a two bedroom-one bath Manhattan apartment. Rather than pursue Muriel's idea to renovate the apartment for $7,000, Jim sees a photo of a Connecticut house in a magazine and realizes this is where they need to move. With the help of an opportunistic real estate agent and against the advice of their attorney and family friend Bill Cole, the Blandings decide to buy a ramshackle house badly in need of repair. However, the foundation sags so badly that the house needs to be torn down in favor of a new one. This sparks the Blandings to push the architect to design a house so excessive that the second floor is twice as big as the first. Costs rise with each new complication, tempers flare, and even a romantic triangle is imagined among, Jim, Muriel and Bill. Priorities finally sort themselves out but not before some funny slapstick scenes and clever dialogue that tweaks the not-so-blissful ignorance of the new homeowners.<br /><br />With his double takes and flawless line delivery, Grant is infallible in this type of farce, and Jim Blandings epitomizes his more domesticated mid-career characters. In a role originally meant for Irene Dunne, Myrna Loy shows why she was Hollywood's perfect wife. She doesn't get many of the funnier lines, but she combines her special blend of flightiness and sauciness to make Muriel an appealing character on her own. Watch her deftly maneuver the overly agreeable house painter with her absurdly idiosyncratic color palette. As avuncular, pipe-smoking Bill (\"Cole\n",
       "Bill Cole\"), Melvyn Douglas shows his natural, easy-going élan as Grant's foil. Smaller roles are filled expertly with particularly memorable turns by Harry Shannon as the laconic well-digger Mr. Tesander, Lurene Tuttle as Jim's officious assistant Mary, and Louise Beavers as the Blandings' lovable maid Gussie. The 2004 DVD provides some intriguing vintage material including two radio versions of the movie - the first a 1949 version that did end up pairing Grant and Dunne and then a second 1950 version coupling Grant with his then-wife, actress Betsy Drake. A most appropriate 1949 cartoon, \"The House of Tomorrow\", is also included giving us a comical tour of a futuristic dream house. The original theatrical trailers for ten of Grant's film classics complete the extras.   \n",
       "39489  I have a problem with the movie snobs who consider Americans to be uncouth semi - literates unable to appreciate the subtlety of the more sophisticated Europeans,les Francais,les Italiens...just about anybody from le continong to whom English is a foreign language.If the humour in \"My Father the Hero\" is different from that in \"Mon Pere ce heros\" it is because the French sense of humour is different from that of the American.Not better,not \"more clever\",just different. If you think it is crass for Hollywood to \"borrow\" from the French cinema just consider how much the French cinema has borrowed from Hollywood in the first place.Where would Belmondo and Delon have been without Bogart?Truffaut without Hitchcock?Jerry Lewis - not known for his subtle and cerebral style is idolised in France.Go figure........ Monsieur Depardieu is exceptionally good as the hapless divorced father of a precocious 14 year old daughter on holiday in the Bahamas together. Unbeknowst to him,she presents him to the other people at the hotel as her lover so as to make herself more interesting to a boy she has her eye on .Not surprisingly,complications ensue. There are \"hommages\" to \"Green Card\" and \"Cyrano de Bergerac\" amusingly inserted and M.Depardieu goes along with it all very good - naturedly. He does a good Maurice Chevaler impression with \"Thank Heaven for little girls\" which is in fact funny and rather poignant as his audience,all of whom believe him to be the lover of a 14 year old girl,get up and leave two - by - two as he warbles away,blissfully unaware of what is happening.When he turns round at the end of the song to acknowledge the expected applause the expression on his face is priceless. Without him the movie would be very average indeed.With his huge shambling figure dominating the screen it is a lot of fun.No pecs,no six pack - just a real proper human - type being.Formidable!                                                                                                                                                                                                                                                                                                                                                                                                                                                                                                                                                                                                                                                                                                                                                                                                                                                                                                                                                                                                                                                                                                                                                                                                                                                                                                                                                                                                                                                                                                                                                                                                                                                                            \n",
       "1485   I watched this movie after having so much of trouble in downloading it through rapidshare. And I have to say, it did not deserve it.<br /><br />Parinda was so hyped, that I was really looking forward to watch it.<br /><br />Parinda is one of those movies which fail to satisfy the standards set by other good Indian film-makers, despite having a great story. It was even more pathetic to know, that the story itself was not original, it was loosely based on the classic \"On the Waterfront\".<br /><br />Anil Kapoor was irritating, especially when he comes from America. The direction lacked quality many a times, except a few in-between scenes.<br /><br />Give this script to any of them - Ram Gopal Verma, Deepa Mehta, Mahesh Bhatt, Sudhir Mishra, and I'm 100% sure, they'll make a mind-blowing movie out of it.<br /><br />I'm not saying Parinda was bad. It was just not good enough.                                                                                                                                                                                                                                                                                                                                                                                                                                                                                                                                                                                                                                                                                                                                                                                                                                                                                                                                                                                                                                                                                                                                                                                                                                                                                                                                                                                                                                                                                                                                                                                                                                                                                                                                                                                                                                                                                                                                                                                                                                                                                                                                                                                                                                                                                                                                                                                                                                                                                                                                                                                                                                                                                                                                    \n",
       "4152   Legendary pop star Steve Alaimo (\"Don't Let the Sun Catch You Crying\") stars as an unlikable stock car racer whose career has hit the skids (ha ha) because he constantly crashes his car (or as he laments, \"I'm tired of being run down by every grease monkey that gets behind the wheel\"). He falls into a bad crowd of humorously inept Nazi bikers, improbably named Jeeter, Banjo, Fats, and, er, Linda. Fats is the most likable of the bunch; he took a surfboard to the back of the skull and now only communicates through grunts, sort of a Harley Davidson Leatherface.<br /><br />Anyway, Steve is fooled by the cops into catching the dastardly crooks in the middle of one of their bank robberies. The gang only robs banks for \"kicks, man\". I guess they give the money to charity. Steve fails constantly, the bikers get greasier, and the whole thing never comes off as daring because it's so dull. This movie looks like it was filmed through a grease-soaked paper towel. Not since \"Necromantic\" has a movie so trampled my soul.<br /><br />The guy who played Fats went on to direct \"Deranged\", the Ed Gein biopic starring Robert Blossom.<br /><br />Anyway, in summary: Wild Rebels: Hilarious on MST3K, dreadful everywhere else.                                                                                                                                                                                                                                                                                                                                                                                                                                                                                                                                                                                                                                                                                                                                                                                                                                                                                                                                                                                                                                                                                                                                                                                                                                                                                                                                                                                                                                                                                                                                                                                                                                                                                                                                                                                                                                                                                                                                                                                                                                                                                                                                                                                                                                                                                                                                                                                  \n",
       "30818  I remember when this came out a lot of kids were nuts about it. I guess I was a bit too old to get all excited and I was a fan of real martial arts films and always found this a bit cheesy.<br /><br />In the early 90's we were swamped with programs such as this making kids feel like they could fight and be a power ranger or an equal to these kids on 3 Ninjas. I think eventually parents and film makers alike got sick of it because all we had in reality was abunch of kids going around punching and hitting everyone.<br /><br />Many kids movies have some big point they're trying to make and its nice for your kids to watch and get the message, this one doesn't have any message at all...it just exploits a million difference things in less than 90 minutes.<br /><br />The movie has no great visual qualities but would one expect it to? The acting is pretty bad. Victor Wong is a cool actor but it was embarrassing to see him here.. The short, fat, gimped eyed old fart as a powerful ninja that was just hilarious. The kids over acted way too much and the youngest ninja Tum Tum was maybe the worst kid actor I have ever seen.<br /><br />The movie has a plot that anyone knows before they even read the review. 3 ninjas...yea you know they're gonna fight a bunch of bad guys and win obviously... Need I say more. Sorry if I spoiled it for anyone.<br /><br />With all that said KIDS WILL LOVE IT. This movie is aimed at kids and only children could enjoy it. If you don't mind your kid seeing movies about kids fighting this is a good movie to let them see. If you don't mind allowing your children to see complete garbage that has nothing to do with real martial arts, real acting or reality period then you have found a movie for your kids... I say kids because I think even the girls will like it... I recall all the girls having a crush on Rocky.<br /><br />2 out of 10 stars because I think you can make a movie for kids and still make it enjoyable for adults..this movie failed big time at that.. It is beyond cheesy and nothing original or unique and I would not allow a child of mine to watch it... Kung Fu the TV series is on DVD and there's tons of great Shaw Brothers films out there...Why not show your children things that will really entertain them and not make them dumb along the way, perhaps even teach them some moves and not just how to kick a man between the legs as grandpa did on 3 Ninjas...no no no...never kick a man between the legs ...never .. thats so unninja like.                                                                                                                                                                                                                                                                                                                                                                                                                                                                                                                                                                                                                                                                                                                                                                                                                                                                                                                                                                                                                                                          \n",
       "25512  We start all of our reviews with the following information. My wife and I have seen nearly 100 movies per year for the past 15 years. Recently, we were honored by receiving lifetime movie passes to any movie any time at no cost! So we can see whatever we want whenever we want. The point of this is that CRITICS count for ZERO. Your local critics or the national critics like Ebert are really no different than you or me. The only difference is that they get to write about the movie and are forced to see hundreds of movies whether they want to or not.Therefore, it is our belief that if you get your monies worth for two hours of enjoyment that is good enough for us! We NEVER EVER listen or read the critics. We only care about our friends and those who we know like the same things as us. Well enough about that. <br /><br />When Meryl Streep the head of the NSC in the movie says \"The United States does not torture\" it got a big laugh at this movie. It is of course a lie that the Bush Administration has denied time and again. It is a very good movie and it is scary in what they can do to us as we lose all of our civil rights. They can simply \"snatch\" you anywhere and tell know one that they have done it. In this case, they snatch a man who has a name similar to those who killed thousands on 9-11. He is of course just like you or I. And so they take him to a secret location outside of the US to torture and waterboard him. <br /><br />Very frightening. Well acted by Jake and Reese and the entire cast.                                                                                                                                                                                                                                                                                                                                                                                                                                                                                                                                                                                                                                                                                                                                                                                                                                                                                                                                                                                                                                                                                                                                                                                                                                                                                                                                                                                                                                                                                                                                                                                                                                                                                                                                                                                                                                                                                                                                                                                                                                                                           \n",
       "25934  CITY HALL is a somewhat mixed bag. Part vignettes of NYC political life, and part moralizing tale. Al Pacino, a Dukakis-esque Boss with Presidential dreams, gives an oft times sullen or subdued performance. There's a couple times when he chews the scenery, and in the case of CITY HALL, this is where he shines. John Cusack gives a subdued and generally flawless performance, without going into caricature of a New Orleans dialect, or sliding into melodrama during the films climax. Danny Aiello as a burrough political chief, is also very good. I love showtunes, too.<br /><br />The major problem with CITY HALL, and it is a good movie in many ways, is the general feeling of a lack of momentum. It comes off more like a documentary, than a motion picture. We see the action or follow the story from a detached perspective, and naturally, the viewer doesn't become involved. When the viewer doesn't get involved to a certain degree, they become apathetic towards the characters, and eventually, the plot.<br /><br />This tends to alienate, and what should have been a riveting, detail divulging finale, came off as a \"Hmmm...uh...okay.\" They say you \"Can't fight city hall,\" as the tread worn cliche goes. Yet, it still can't stop you from thinking what might have been, if they had just tightened up the screenplay and pacing of this movie.                                                                                                                                                                                                                                                                                                                                                                                                                                                                                                                                                                                                                                                                                                                                                                                                                                                                                                                                                                                                                                                                                                                                                                                                                                                                                                                                                                                                                                                                                                                                                                                                                                                                                                                                                                                                                                                                                                                                                                                                                                                                                                                                                                                                                                                         \n",
       "2970   This film must have been quietly released on some other side of the world, perhaps even in English. Hopefully nobody understood a word, not there's anything to understand in this movie anyways! Haahaa! Call me a nut, but I think this is one of the best movies ever. Why would I come to that conclusion?? Because it's my national pasttime to sabotage horrible films and this one begs for it every other minute! Once I became a fan of Myster Science Theater 3000, I had no doubt in my mind they'd find it somewhere and use it. Sure enough! The version they acquired was entitled \"Cave Dwellers\" using some strange intro footage not even from the film itself (apparently, they were ashamed to use footage from their OWN film!). I can't say I recommend buying this film. Rather, I highly recommend getting the MST3K version. Sure to find it most anywhere MST3K DVD's are sold, don't miss out!                                                                                                                                                                                                                                                                                                                                                                                                                                                                                                                                                                                                                                                                                                                                                                                                                                                                                                                                                                                                                                                                                                                                                                                                                                                                                                                                                                                                                                                                                                                                                                                                                                                                                                                                                                                                                                                                                                                                                                                                                                                                                                                                                                                                                                                                                                                                                                                                                                                                                                                                                                                                                                                                                                                               \n",
       "\n",
       "       label  \n",
       "2280   0      \n",
       "36421  0      \n",
       "20648  1      \n",
       "39489  1      \n",
       "1485   0      \n",
       "4152   0      \n",
       "30818  0      \n",
       "25512  1      \n",
       "25934  1      \n",
       "2970   1      "
      ]
     },
     "execution_count": 8,
     "metadata": {},
     "output_type": "execute_result"
    }
   ],
   "source": [
    "train_data.sample(10)"
   ]
  },
  {
   "cell_type": "markdown",
   "metadata": {},
   "source": [
    "###### Let's take a look at some statistical figures for word count. "
   ]
  },
  {
   "cell_type": "code",
   "execution_count": 8,
   "metadata": {},
   "outputs": [],
   "source": [
    "train_data['text']= train_data['text'].astype(str)\n",
    "train_data['word_count'] = train_data['text'].apply(lambda x : len(x.split()))"
   ]
  },
  {
   "cell_type": "code",
   "execution_count": 9,
   "metadata": {},
   "outputs": [
    {
     "data": {
      "text/plain": [
       "count    40000.000000\n",
       "mean     231.339250  \n",
       "std      171.194123  \n",
       "min      4.000000    \n",
       "25%      126.000000  \n",
       "50%      173.000000  \n",
       "75%      282.000000  \n",
       "max      2470.000000 \n",
       "Name: word_count, dtype: float64"
      ]
     },
     "execution_count": 9,
     "metadata": {},
     "output_type": "execute_result"
    }
   ],
   "source": [
    "train_data.word_count.describe()"
   ]
  },
  {
   "cell_type": "markdown",
   "metadata": {},
   "source": [
    "### Train SVC model "
   ]
  },
  {
   "cell_type": "code",
   "execution_count": 10,
   "metadata": {},
   "outputs": [],
   "source": [
    "TF_PARAMS = {\n",
    "    #'tokenizer': tweet_tok.tokenize,\n",
    "    'analyzer': 'word',\n",
    "    'max_df': 0.5431858441280838,\n",
    "    'use_idf': True,\n",
    "    'smooth_idf': True,\n",
    "    'sublinear_tf': True,\n",
    "    'ngram_range': (1,4),\n",
    "    'lowercase': True\n",
    "   # 'stop_words': STOPWORDS\n",
    "\n",
    "}\n",
    "\n",
    "SVC_PARAMS  = {\n",
    "    'fit_intercept': True,\n",
    "    #'max_iter': 2900,\n",
    "    'tol': 0.019114513977298204,\n",
    "    'C': 0.7962740670237443,\n",
    "    'class_weight': 'balanced',\n",
    "    'penalty': 'l2',\n",
    "    'multi_class': 'ovr'\n",
    "    }"
   ]
  },
  {
   "cell_type": "code",
   "execution_count": 13,
   "metadata": {},
   "outputs": [
    {
     "name": "stdout",
     "output_type": "stream",
     "text": [
      "0.9094\n",
      "              precision    recall  f1-score   support\n",
      "\n",
      "           0       0.92      0.90      0.91      2495\n",
      "           1       0.90      0.92      0.91      2505\n",
      "\n",
      "    accuracy                           0.91      5000\n",
      "   macro avg       0.91      0.91      0.91      5000\n",
      "weighted avg       0.91      0.91      0.91      5000\n",
      "\n"
     ]
    }
   ],
   "source": [
    "\n",
    "SVC_pipeline = Pipeline([\n",
    "                    ('tfidf', TfidfVectorizer(**TF_PARAMS)),\n",
    "                    ('clf', OneVsRestClassifier(CalibratedClassifierCV(LinearSVC(**SVC_PARAMS)))),\n",
    "                     \n",
    "                ])\n",
    "\n",
    "SVC_pipeline.fit(train_data.text, train_data.label)\n",
    "y_preds = SVC_pipeline.predict(test_data.text)\n",
    "report = classification_report(test_data.label, y_preds)\n",
    "print(str(np.mean(test_data.label == y_preds)))\n",
    "print(report)\n",
    "\n"
   ]
  },
  {
   "cell_type": "markdown",
   "metadata": {},
   "source": [
    "### Define & Wrap predict_prob function"
   ]
  },
  {
   "cell_type": "code",
   "execution_count": 14,
   "metadata": {},
   "outputs": [],
   "source": [
    "\n",
    "def predict_proba(inputs):\n",
    "\n",
    "    return SVC_pipeline.predict_proba(inputs)"
   ]
  },
  {
   "cell_type": "code",
   "execution_count": 15,
   "metadata": {},
   "outputs": [],
   "source": [
    "from checklist.pred_wrapper import PredictorWrapper\n",
    "wrapped_pp = PredictorWrapper.wrap_softmax(predict_proba)"
   ]
  },
  {
   "cell_type": "code",
   "execution_count": 70,
   "metadata": {},
   "outputs": [
    {
     "data": {
      "text/plain": [
       "(array([0, 1, 0, 0], dtype=int64),\n",
       " array([[0.99174581, 0.00825419],\n",
       "        [0.01146064, 0.98853936],\n",
       "        [0.9976113 , 0.0023887 ],\n",
       "        [0.90313528, 0.09686472]]))"
      ]
     },
     "execution_count": 70,
     "metadata": {},
     "output_type": "execute_result"
    }
   ],
   "source": [
    "wrapped_pp(['This is not a good book', 'This is a good book', 'This book is okay', 'I do not like this book'])"
   ]
  },
  {
   "cell_type": "markdown",
   "metadata": {},
   "source": [
    "### Import pre-defined Checklist Test Suite "
   ]
  },
  {
   "cell_type": "code",
   "execution_count": 17,
   "metadata": {},
   "outputs": [],
   "source": [
    "##Import checlist\n",
    "import checklist\n",
    "from checklist.test_suite import TestSuite\n",
    "suite_path = 'sentiment_suite.pkl'\n",
    "suite = TestSuite.from_file(suite_path)"
   ]
  },
  {
   "cell_type": "code",
   "execution_count": 19,
   "metadata": {},
   "outputs": [
    {
     "name": "stdout",
     "output_type": "stream",
     "text": [
      "Running single positive words\n",
      "Predicting 19 examples\n",
      "Running single negative words\n",
      "Predicting 23 examples\n"
     ]
    }
   ],
   "source": [
    "suite.run(wrapped_pp, overwrite = True)"
   ]
  },
  {
   "cell_type": "code",
   "execution_count": 23,
   "metadata": {},
   "outputs": [
    {
     "name": "stdout",
     "output_type": "stream",
     "text": [
      "Please wait as we prepare the table data...\n"
     ]
    },
    {
     "data": {
      "application/vnd.jupyter.widget-view+json": {
       "model_id": "9e8014c9c36a467d80cec56b99b5feb5",
       "version_major": 2,
       "version_minor": 0
      },
      "text/plain": [
       "SuiteSummarizer(stats={'npassed': 0, 'nfailed': 0, 'nfiltered': 0}, test_infos=[{'name': 'single positive word…"
      ]
     },
     "metadata": {},
     "output_type": "display_data"
    }
   ],
   "source": [
    "suite.visual_summary_table()"
   ]
  },
  {
   "cell_type": "code",
   "execution_count": null,
   "metadata": {},
   "outputs": [],
   "source": []
  }
 ],
 "metadata": {
  "kernelspec": {
   "display_name": "Python 3",
   "language": "python",
   "name": "python3"
  },
  "language_info": {
   "codemirror_mode": {
    "name": "ipython",
    "version": 3
   },
   "file_extension": ".py",
   "mimetype": "text/x-python",
   "name": "python",
   "nbconvert_exporter": "python",
   "pygments_lexer": "ipython3",
   "version": "3.8.3"
  }
 },
 "nbformat": 4,
 "nbformat_minor": 4
}
