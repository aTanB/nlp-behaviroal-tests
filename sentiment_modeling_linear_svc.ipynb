{
 "cells": [
  {
   "cell_type": "markdown",
   "metadata": {},
   "source": [
    "### Importing Libraries"
   ]
  },
  {
   "cell_type": "code",
   "execution_count": 1,
   "metadata": {},
   "outputs": [],
   "source": [
    "import numpy as np\n",
    "import pandas as pd\n",
    "import transformers\n",
    "import torch\n",
    "from torch.utils.data import Dataset, DataLoader, RandomSampler, SequentialSampler\n",
    "from transformers import BertTokenizer, BertModel, BertConfig\n",
    "import glob \n",
    "import os\n",
    "import fasttext\n",
    "import re\n",
    "from sklearn import metrics\n",
    "# import pyLDAvis.gensim\n",
    "from sklearn.decomposition import NMF, LatentDirichletAllocation, TruncatedSVD\n",
    "from sklearn.feature_extraction.text import CountVectorizer\n",
    "from sklearn.feature_extraction.text import TfidfVectorizer\n",
    "from sklearn.semi_supervised import LabelSpreading\n",
    "from sklearn.preprocessing import FunctionTransformer\n",
    "from sklearn.linear_model import SGDClassifier\n",
    "from sklearn.multiclass import OneVsRestClassifier\n",
    "from sklearn.preprocessing import FunctionTransformer\n",
    "from sklearn import preprocessing\n",
    "from sklearn import metrics\n",
    "#from xgboost import XGBClassifier\n",
    "from sklearn.pipeline import Pipeline\n",
    "from nltk.corpus import stopwords\n",
    "from nltk.tokenize import TweetTokenizer\n",
    "from sklearn.model_selection import train_test_split\n",
    "from sklearn.svm import LinearSVC\n",
    "from sklearn.metrics import classification_report\n",
    "from sklearn.calibration import CalibratedClassifierCV\n",
    "from sklearn.linear_model import LogisticRegression\n",
    "\n",
    "import checklist\n",
    "from checklist.editor import Editor\n",
    "from checklist.perturb import Perturb\n",
    "from checklist.test_types import MFT, INV, DIR\n",
    "import numpy as np\n",
    "import torch\n",
    "import dill\n",
    "import pickle\n"
   ]
  },
  {
   "cell_type": "markdown",
   "metadata": {},
   "source": [
    "#### Setting up device for GPU usage"
   ]
  },
  {
   "cell_type": "code",
   "execution_count": 2,
   "metadata": {},
   "outputs": [],
   "source": [
    "from torch import cuda\n",
    "device = 'cuda' if cuda.is_available() else 'cpu'"
   ]
  },
  {
   "cell_type": "code",
   "execution_count": 3,
   "metadata": {},
   "outputs": [],
   "source": [
    "#lang = 'english'\n",
    "#STOPWORDS = stopwords.words(LANG)"
   ]
  },
  {
   "cell_type": "markdown",
   "metadata": {},
   "source": [
    "#### Setting display options"
   ]
  },
  {
   "cell_type": "code",
   "execution_count": 2,
   "metadata": {},
   "outputs": [],
   "source": [
    "pd.set_option('display.max_rows', 10)\n",
    "pd.set_option('display.max_columns', 500)\n",
    "pd.set_option('display.width', 500)\n",
    "pd.set_option('display.max_colwidth', 0)"
   ]
  },
  {
   "cell_type": "markdown",
   "metadata": {},
   "source": [
    "### Import Train, Val & Test Sets"
   ]
  },
  {
   "cell_type": "code",
   "execution_count": 3,
   "metadata": {},
   "outputs": [],
   "source": [
    "train_data = pd.read_csv('./data/Train.csv')\n",
    "val_data = pd.read_csv('./data/Valid.csv')\n",
    "test_data = pd.read_csv('./data/Test.csv')"
   ]
  },
  {
   "cell_type": "code",
   "execution_count": 4,
   "metadata": {},
   "outputs": [
    {
     "data": {
      "text/plain": [
       "0    20019\n",
       "1    19981\n",
       "Name: label, dtype: int64"
      ]
     },
     "execution_count": 4,
     "metadata": {},
     "output_type": "execute_result"
    }
   ],
   "source": [
    "train_data.label.value_counts()"
   ]
  },
  {
   "cell_type": "code",
   "execution_count": 5,
   "metadata": {},
   "outputs": [
    {
     "data": {
      "text/plain": [
       "1    2514\n",
       "0    2486\n",
       "Name: label, dtype: int64"
      ]
     },
     "execution_count": 5,
     "metadata": {},
     "output_type": "execute_result"
    }
   ],
   "source": [
    "val_data.label.value_counts()"
   ]
  },
  {
   "cell_type": "code",
   "execution_count": 6,
   "metadata": {},
   "outputs": [
    {
     "data": {
      "text/plain": [
       "1    2505\n",
       "0    2495\n",
       "Name: label, dtype: int64"
      ]
     },
     "execution_count": 6,
     "metadata": {},
     "output_type": "execute_result"
    }
   ],
   "source": [
    "test_data.label.value_counts()"
   ]
  },
  {
   "cell_type": "code",
   "execution_count": 7,
   "metadata": {},
   "outputs": [
    {
     "data": {
      "text/html": [
       "<div>\n",
       "<style scoped>\n",
       "    .dataframe tbody tr th:only-of-type {\n",
       "        vertical-align: middle;\n",
       "    }\n",
       "\n",
       "    .dataframe tbody tr th {\n",
       "        vertical-align: top;\n",
       "    }\n",
       "\n",
       "    .dataframe thead th {\n",
       "        text-align: right;\n",
       "    }\n",
       "</style>\n",
       "<table border=\"1\" class=\"dataframe\">\n",
       "  <thead>\n",
       "    <tr style=\"text-align: right;\">\n",
       "      <th></th>\n",
       "      <th>text</th>\n",
       "      <th>label</th>\n",
       "    </tr>\n",
       "  </thead>\n",
       "  <tbody>\n",
       "    <tr>\n",
       "      <th>38431</th>\n",
       "      <td>This film is to the F.B.I.'s history as Knott's Berry Farm is to the old west. Shamelessly sanitized version of the Federal Bureau of Investigation fight against crime. Hoover's heavy hand (did he have any other kind?) shows throughout with teevee quality script-reading actors, cheesy sets, cheap sound effects and lighting 101. With Jimmy Stewart at 20% of dramatic capacity, Vera Miles chewing the scenery, the film features every c-lister known in the mid-fifties with nary a hint of irony or humor, from the 'Amazon jungle' to the 'back yard barbecue', everything reeks of sound stages and back lots. Even the gunshots are canned and familiar. I imagine Mervyn Leroy got drunk every night. Except for a few (very few) interesting exterior establishing shots, nothing here of note beyond a curio.</td>\n",
       "      <td>0</td>\n",
       "    </tr>\n",
       "    <tr>\n",
       "      <th>37703</th>\n",
       "      <td>I'm sorry, but this is such a bad movie it's hilarious. Football hooligans arguing in a travel lodge? Suits? Shades?! Alan clearly had no idea what he was talking about when he made this, it is as far from the truth as you can get.&lt;br /&gt;&lt;br /&gt;The casting was atrocious...Gary Oldman as a football hooligan? He doesn't look scary, act scary or even come across as someone who would like football. And as for Yeti? What the hell? Suits, shades and sitting in a travelodge childishly taunting each other with \"its about time you got your nappy on\". Please.&lt;br /&gt;&lt;br /&gt;And the Yeti's gang spraying the ICC's underwear? &lt;br /&gt;&lt;br /&gt;I don't see how anyone can even take this film seriously!.&lt;br /&gt;&lt;br /&gt;4/10. Its possibly the most inaccurate portrayal of the crisis of the late eighties hooliganism i have ever seen.</td>\n",
       "      <td>0</td>\n",
       "    </tr>\n",
       "    <tr>\n",
       "      <th>23487</th>\n",
       "      <td>Margaret Mitchell spins in her grave every time somebody watches this mess! Fine costuming and sets can't even begin to overwhelm lackluster performances by Joanne Whalley (as the title character) and the ever-bland Timothy Dalton (as Rhett). Even worse than the acting--and perhaps partially explaining it--is the script, which is astoundingly cliched and predictable. Add to that hellishly bad script a score that'll have you cringing, and you've got a disaster I wouldn't wish on any viewer. SCARLETT is just amazingly lousy, and I can't imagine how it ever got made, much less made it to video.</td>\n",
       "      <td>0</td>\n",
       "    </tr>\n",
       "    <tr>\n",
       "      <th>6253</th>\n",
       "      <td>Just recently, I've been obsessing over and anticipating this movie so much that I almost had to see it. Well, having just seen it today, the 5.8 rating is completely understandable. I think that if you anticipate something so much that it becomes a dire need, it turns out not to be worth it. &lt;br /&gt;&lt;br /&gt;Sure, The Hills Have Eyes 2 has its moments. It has a very cool and well-developed storyline that ties in well with the actual product itself, but the whole thing is so self-indulged that it becomes so hard to follow. And if it weren't for Wes Craven's production on this film, it wouldn't be anything to do with The original remake. &lt;br /&gt;&lt;br /&gt;But the whole thing makes you go \"Is this supposed to be horror or COMEDY?\" because there are lots of ridiculous, randomly placed jump moments and stupid one liners (I.E. \"There's a hand in the sh**er!\" or \"You motherfu**er! I'll kill you all damn sons of b**tches!\") and the acting (God don't even remind me how bad it was.&lt;br /&gt;&lt;br /&gt;STORYLINE: (this part contains spoilers, beware!) The movie begins with a woman giving birth to a mutant baby (ooh la la!), and then the screen fades to black with the movie's title appearing, and a monologue. Then we go to this office where there are randomly placed war veteran mannequins. We find that this is for this one scientist keeping track of people looking for mutants. The box to keep track of audio feeds is gone, and everyone dies! After that tone-setting opening, you'd expect more.&lt;br /&gt;&lt;br /&gt;Then, we go to this one team of military recruits training in Baghdad. As the captain parades them \"A good job at stupidity\", their last day of training is in New Mexico, the desert where the family in the last THHE had stayed because they were stuck. While in training, things go ultimately wrong, people die, and... do I need to tell you any more? Because right now I have the attention span of a goldfish just forcing myself to sit here and type this.&lt;br /&gt;&lt;br /&gt;The thing that's wrong with THHE2 is that it just dosen't work. No flashbacks here, and the ending is pretty safe... but with a twist! A stupid one, that is. I'm pretty sure the Ultra Super Director's Cut with a holographic cover and a ticket to The Hills Have Eyes 3 will showcase all of it's alternate endings, but at this point, I'm not sure if I care. &lt;br /&gt;&lt;br /&gt;So by all means, if you loved the first THHE so much it's almost a sin not to see this, then by all means, see it. But if else, then, Avoid at all costs. It's for your own good.&lt;br /&gt;&lt;br /&gt;3/10</td>\n",
       "      <td>0</td>\n",
       "    </tr>\n",
       "    <tr>\n",
       "      <th>9503</th>\n",
       "      <td>\"Going Berserk\" is actually one of the funniest Candy films I have ever seen, period. Sure, it's kinda low budget, but it's a non-stop comedic tour de force. There are tons of memorable quotes. For instance, when his soon-to-be father-in-law asks him how much he earns, Candy says \"Oh, I pull down anywhere between thirty and...eleven thousand dollars a year, sir.\" Oh course, it is Candy's delivery that sells it. Just classic stuff. Eugene Levy also turns in a hilarious performance as a sleazy filmmaker. A clip of his horrible low budget movie \"Kung Fu U\" will have you rolling.&lt;br /&gt;&lt;br /&gt;So if you are a Candy fan and want to rediscover a forgotten gem, I can't recommend this movie enough.</td>\n",
       "      <td>1</td>\n",
       "    </tr>\n",
       "    <tr>\n",
       "      <th>24498</th>\n",
       "      <td>In this movie, Chávez supporters (either venezuelan and not-venezuelan) just lie about a dramatic situation in our country. &lt;br /&gt;&lt;br /&gt;They did not say that the conflict started because of Chávez announcement firing a lot of PDVSA best workers just for political issues.&lt;br /&gt;&lt;br /&gt;They did not say anything about more than 96 TV interruptions transmitted by Chávez during only 3 days in \"CADENA NACIONAL\" (a kind of confiscation o private TV signals). Each one with about 20 minutes of duration.&lt;br /&gt;&lt;br /&gt;They did not tell us anything about The quiting announcement made by General en Jefe Lucas Rincon Romero, Inspector General of the army forces, who is a traditional supporter of Chávez. Even now, in despite of his announcement, he is the Ministro de Interior y Justicia. After Chávez return he occuped the Charge of Ministro del Defensa (equals to Defense Secretary in US).&lt;br /&gt;&lt;br /&gt;They did not say anything about Chávez orders about shooting against a pacifical people concentration who was claiming for elections.&lt;br /&gt;&lt;br /&gt;They did not say anything about the people in this concentration that were killed by Chávez Supporters (either civilians and Military official forces).&lt;br /&gt;&lt;br /&gt;They present some facts in a wrong order, in order to lie.&lt;br /&gt;&lt;br /&gt;They did not say anything about venezuelan civilian society thats are even now claiming for an elections in order to solve the crisis and Chávez actions in order to avoid the elections.&lt;br /&gt;&lt;br /&gt;That's why i tell you.... This movie is just a lot of lies or a big lie.</td>\n",
       "      <td>0</td>\n",
       "    </tr>\n",
       "    <tr>\n",
       "      <th>14251</th>\n",
       "      <td>I know that to include everything in the book, the film would have to have been several hours long, so I think they did their best to include things that were crucial and pivotal to the story. I thought the casting was great, the children who played Amir and Hassan were very good actors. And the guy who played Amir as an adult was great! The scenes between him and Baba were especially touching. I thought the locations they used were interesting... scenes set in Afghanistan were shot in China, and one scene that took place in Fremont, CA (the graduation scene) was actually shot on Treasure Island in San Francisco. I worked one day as an extra on \"Kite Runner\" and it was that day, the day they shot the graduation scene. We reported to Treasure Island in the morning, they checked everyone's wardrobe to make sure it looked like the late 80s, an then we took our places in the audience. They shot the scene over and over again until they were happy with it. It was cool to see the actors up close and also to see the book's author, who was on hand as a story consultant. I thought this book was excellent and I recommend both the book and the movie to anyone. This is a moving story about friendship, love, guilt and eventual redemption. \"There is a way to be good again.\"</td>\n",
       "      <td>1</td>\n",
       "    </tr>\n",
       "    <tr>\n",
       "      <th>35648</th>\n",
       "      <td>What starts out as a passable movie degenerates into one of the most incoherent, UNscary, incompetently made, stupid attempted horror films of recent years.&lt;br /&gt;&lt;br /&gt;Absolutely terrible. It's such a derivative mess ripping off every decent fright flick you can think of without successfully producing a single scare. Whether it's copying the recent trend with creepy kids or ghosts walking past the camera or the old school horror of Fulci's Gates of Hell.&lt;br /&gt;&lt;br /&gt;The worst thing is there's not even a cat jumping out of a cupboard to make you jump. To be avoided.</td>\n",
       "      <td>0</td>\n",
       "    </tr>\n",
       "    <tr>\n",
       "      <th>36900</th>\n",
       "      <td>Its a very sensitive portrayal of life with unquenched or constrained desires. What does one do with desire in a culture and society with rigid norms? One husband finds outlet with the immigrant - since immigrants don't belong or aren't accepted, they don't need to conform and dam their desires. The other husband looks for solace in spirituality and tries to evaporate his desire into nothingness. It fails - of course - and he breaks down in the last scene for multiple reasons. Sita still cared enough for him to find that moment to let him know that he is not responsible for her deviant outlet to her blocked desires. The mother in her still couldn't find the strength to destroy his myth. She sees him as a child who is glorifying himself in his lust-control but should she give him the opportunity to finally grow up? Both the wives find courage and togetherness through their shared rejection by their husband. &lt;br /&gt;&lt;br /&gt;But the final act of rejection was by the grandmother - she could not break free from her rusted mindset to accept Sita's desire. A decade and more of receiving care was not enough to break the shackles of her culture.&lt;br /&gt;&lt;br /&gt;Seems like it was easiest for the househelp to let his desires flow - since he's anyway damned by his culture - being at the bottom of the hierarchy. Since there is anyway no respect and expectations, might as well taste sin.</td>\n",
       "      <td>1</td>\n",
       "    </tr>\n",
       "    <tr>\n",
       "      <th>12365</th>\n",
       "      <td>Dead Gentlemen Productions has put together a film with amazing production values considering their budget. Anyone that has ever played any role-playing game, particularly any fantasy RPG (they play Dungeons and Dragons in the movie) will LOVE this movie. Brilliant performances all around--especially with regards to the dual nature of the principles, playing their players and their characters. Anyone who has ever filmed or acted in a student film will appreciate the amount of work and love they put into this project. This movie (and its prequel) is to fantasy movies and role-playing games what Blazing Saddles is to westerns--parody of the highest order. I only have a couple minor complaints about the movie itself, none of which will prevent me from buying the DVD as soon as it's available (only 6 more weeks--I'm counting the days): &lt;br /&gt;&lt;br /&gt;1. When Lodge is talking to Joanna about joining the gaming group, he hands her a copy of the Dungeons and Dragons Players Handbook and says \"this will tell you everything you need to know.\" The camera hovers too long on a shot of the book, and the moment really seemed like a commercial.&lt;br /&gt;&lt;br /&gt;2. The jokes are hilarious, but they seem unevenly spread throughout the movie. The last third of the movie, after the almost continuous barrage of visual and verbal humor preceding it, slows down a bit, as if the narrative was catching up with the jokes. Odd, but Blazing Saddles always struck me that way as well. . . and I love that movie, too.&lt;br /&gt;&lt;br /&gt;One of the narrative strengths of the story is the unresolved nature of the romantic subplot. Will Joanna become the GM's girlfriend? Will she go back to Cass? Or will the three maintain a platonic friendship, deepened by the camaraderie of role-playing? (Yes that sounds sappy, but there are a couple of saccharine moments, particularly when Cass and Lodge \"make up\" at the end.) But the movie spans one week: in terms of human relationships, those questions could not be answered in a week. The fact that the characters' relationships are left undefined strikes me as better than the more classical choices you see in most movies, like the girl gets her prince and they move into the castle, or the prince sinks into the North Atlantic after three trite, tedious, and predictable hours. The writers really seem to have a grasp of the psychology of the characters, and you can see the characters (both the gamers and the player's characters) change over the course of the movie, but not suddenly, and not unbelievably. &lt;br /&gt;&lt;br /&gt;I would love to hear more wisdom from Brother Silence. \"The man who stands out in darkness is. . . fluorescent.\"</td>\n",
       "      <td>1</td>\n",
       "    </tr>\n",
       "  </tbody>\n",
       "</table>\n",
       "</div>"
      ],
      "text/plain": [
       "                                                                                                                                                                                                                                                                                                                                                                                                                                                                                                                                                                                                                                                                                                                                                                                                                                                                                                                                                                                                                                                                                                                                                                                                                                                                                                                                                                                                                                                                                                                                                                                                                                                                                                                                                                                                                                                                                                                                                                                                                                                                                                                                                                                                                                                                                                                                                                                                                                                                                                                                                                                                                                                                                                                                                                      text  \\\n",
       "38431  This film is to the F.B.I.'s history as Knott's Berry Farm is to the old west. Shamelessly sanitized version of the Federal Bureau of Investigation fight against crime. Hoover's heavy hand (did he have any other kind?) shows throughout with teevee quality script-reading actors, cheesy sets, cheap sound effects and lighting 101. With Jimmy Stewart at 20% of dramatic capacity, Vera Miles chewing the scenery, the film features every c-lister known in the mid-fifties with nary a hint of irony or humor, from the 'Amazon jungle' to the 'back yard barbecue', everything reeks of sound stages and back lots. Even the gunshots are canned and familiar. I imagine Mervyn Leroy got drunk every night. Except for a few (very few) interesting exterior establishing shots, nothing here of note beyond a curio.                                                                                                                                                                                                                                                                                                                                                                                                                                                                                                                                                                                                                                                                                                                                                                                                                                                                                                                                                                                                                                                                                                                                                                                                                                                                                                                                                                                                                                                                                                                                                                                                                                                                                                                                                                                                                                                                                                                                      \n",
       "37703  I'm sorry, but this is such a bad movie it's hilarious. Football hooligans arguing in a travel lodge? Suits? Shades?! Alan clearly had no idea what he was talking about when he made this, it is as far from the truth as you can get.<br /><br />The casting was atrocious...Gary Oldman as a football hooligan? He doesn't look scary, act scary or even come across as someone who would like football. And as for Yeti? What the hell? Suits, shades and sitting in a travelodge childishly taunting each other with \"its about time you got your nappy on\". Please.<br /><br />And the Yeti's gang spraying the ICC's underwear? <br /><br />I don't see how anyone can even take this film seriously!.<br /><br />4/10. Its possibly the most inaccurate portrayal of the crisis of the late eighties hooliganism i have ever seen.                                                                                                                                                                                                                                                                                                                                                                                                                                                                                                                                                                                                                                                                                                                                                                                                                                                                                                                                                                                                                                                                                                                                                                                                                                                                                                                                                                                                                                                                                                                                                                                                                                                                                                                                                                                                                                                                                                                            \n",
       "23487  Margaret Mitchell spins in her grave every time somebody watches this mess! Fine costuming and sets can't even begin to overwhelm lackluster performances by Joanne Whalley (as the title character) and the ever-bland Timothy Dalton (as Rhett). Even worse than the acting--and perhaps partially explaining it--is the script, which is astoundingly cliched and predictable. Add to that hellishly bad script a score that'll have you cringing, and you've got a disaster I wouldn't wish on any viewer. SCARLETT is just amazingly lousy, and I can't imagine how it ever got made, much less made it to video.                                                                                                                                                                                                                                                                                                                                                                                                                                                                                                                                                                                                                                                                                                                                                                                                                                                                                                                                                                                                                                                                                                                                                                                                                                                                                                                                                                                                                                                                                                                                                                                                                                                                                                                                                                                                                                                                                                                                                                                                                                                                                                                                                \n",
       "6253   Just recently, I've been obsessing over and anticipating this movie so much that I almost had to see it. Well, having just seen it today, the 5.8 rating is completely understandable. I think that if you anticipate something so much that it becomes a dire need, it turns out not to be worth it. <br /><br />Sure, The Hills Have Eyes 2 has its moments. It has a very cool and well-developed storyline that ties in well with the actual product itself, but the whole thing is so self-indulged that it becomes so hard to follow. And if it weren't for Wes Craven's production on this film, it wouldn't be anything to do with The original remake. <br /><br />But the whole thing makes you go \"Is this supposed to be horror or COMEDY?\" because there are lots of ridiculous, randomly placed jump moments and stupid one liners (I.E. \"There's a hand in the sh**er!\" or \"You motherfu**er! I'll kill you all damn sons of b**tches!\") and the acting (God don't even remind me how bad it was.<br /><br />STORYLINE: (this part contains spoilers, beware!) The movie begins with a woman giving birth to a mutant baby (ooh la la!), and then the screen fades to black with the movie's title appearing, and a monologue. Then we go to this office where there are randomly placed war veteran mannequins. We find that this is for this one scientist keeping track of people looking for mutants. The box to keep track of audio feeds is gone, and everyone dies! After that tone-setting opening, you'd expect more.<br /><br />Then, we go to this one team of military recruits training in Baghdad. As the captain parades them \"A good job at stupidity\", their last day of training is in New Mexico, the desert where the family in the last THHE had stayed because they were stuck. While in training, things go ultimately wrong, people die, and... do I need to tell you any more? Because right now I have the attention span of a goldfish just forcing myself to sit here and type this.<br /><br />The thing that's wrong with THHE2 is that it just dosen't work. No flashbacks here, and the ending is pretty safe... but with a twist! A stupid one, that is. I'm pretty sure the Ultra Super Director's Cut with a holographic cover and a ticket to The Hills Have Eyes 3 will showcase all of it's alternate endings, but at this point, I'm not sure if I care. <br /><br />So by all means, if you loved the first THHE so much it's almost a sin not to see this, then by all means, see it. But if else, then, Avoid at all costs. It's for your own good.<br /><br />3/10                                                                                                                                          \n",
       "9503   \"Going Berserk\" is actually one of the funniest Candy films I have ever seen, period. Sure, it's kinda low budget, but it's a non-stop comedic tour de force. There are tons of memorable quotes. For instance, when his soon-to-be father-in-law asks him how much he earns, Candy says \"Oh, I pull down anywhere between thirty and...eleven thousand dollars a year, sir.\" Oh course, it is Candy's delivery that sells it. Just classic stuff. Eugene Levy also turns in a hilarious performance as a sleazy filmmaker. A clip of his horrible low budget movie \"Kung Fu U\" will have you rolling.<br /><br />So if you are a Candy fan and want to rediscover a forgotten gem, I can't recommend this movie enough.                                                                                                                                                                                                                                                                                                                                                                                                                                                                                                                                                                                                                                                                                                                                                                                                                                                                                                                                                                                                                                                                                                                                                                                                                                                                                                                                                                                                                                                                                                                                                                                                                                                                                                                                                                                                                                                                                                                                                                                                                                              \n",
       "24498  In this movie, Chávez supporters (either venezuelan and not-venezuelan) just lie about a dramatic situation in our country. <br /><br />They did not say that the conflict started because of Chávez announcement firing a lot of PDVSA best workers just for political issues.<br /><br />They did not say anything about more than 96 TV interruptions transmitted by Chávez during only 3 days in \"CADENA NACIONAL\" (a kind of confiscation o private TV signals). Each one with about 20 minutes of duration.<br /><br />They did not tell us anything about The quiting announcement made by General en Jefe Lucas Rincon Romero, Inspector General of the army forces, who is a traditional supporter of Chávez. Even now, in despite of his announcement, he is the Ministro de Interior y Justicia. After Chávez return he occuped the Charge of Ministro del Defensa (equals to Defense Secretary in US).<br /><br />They did not say anything about Chávez orders about shooting against a pacifical people concentration who was claiming for elections.<br /><br />They did not say anything about the people in this concentration that were killed by Chávez Supporters (either civilians and Military official forces).<br /><br />They present some facts in a wrong order, in order to lie.<br /><br />They did not say anything about venezuelan civilian society thats are even now claiming for an elections in order to solve the crisis and Chávez actions in order to avoid the elections.<br /><br />That's why i tell you.... This movie is just a lot of lies or a big lie.                                                                                                                                                                                                                                                                                                                                                                                                                                                                                                                                                                                                                                                                                                                                                                                                                                                                                                                                                                                                                                                                                                                                                                 \n",
       "14251  I know that to include everything in the book, the film would have to have been several hours long, so I think they did their best to include things that were crucial and pivotal to the story. I thought the casting was great, the children who played Amir and Hassan were very good actors. And the guy who played Amir as an adult was great! The scenes between him and Baba were especially touching. I thought the locations they used were interesting... scenes set in Afghanistan were shot in China, and one scene that took place in Fremont, CA (the graduation scene) was actually shot on Treasure Island in San Francisco. I worked one day as an extra on \"Kite Runner\" and it was that day, the day they shot the graduation scene. We reported to Treasure Island in the morning, they checked everyone's wardrobe to make sure it looked like the late 80s, an then we took our places in the audience. They shot the scene over and over again until they were happy with it. It was cool to see the actors up close and also to see the book's author, who was on hand as a story consultant. I thought this book was excellent and I recommend both the book and the movie to anyone. This is a moving story about friendship, love, guilt and eventual redemption. \"There is a way to be good again.\"                                                                                                                                                                                                                                                                                                                                                                                                                                                                                                                                                                                                                                                                                                                                                                                                                                                                                                                                                                                                                                                                                                                                                                                                                                                                                                                                                                                                                                       \n",
       "35648  What starts out as a passable movie degenerates into one of the most incoherent, UNscary, incompetently made, stupid attempted horror films of recent years.<br /><br />Absolutely terrible. It's such a derivative mess ripping off every decent fright flick you can think of without successfully producing a single scare. Whether it's copying the recent trend with creepy kids or ghosts walking past the camera or the old school horror of Fulci's Gates of Hell.<br /><br />The worst thing is there's not even a cat jumping out of a cupboard to make you jump. To be avoided.                                                                                                                                                                                                                                                                                                                                                                                                                                                                                                                                                                                                                                                                                                                                                                                                                                                                                                                                                                                                                                                                                                                                                                                                                                                                                                                                                                                                                                                                                                                                                                                                                                                                                                                                                                                                                                                                                                                                                                                                                                                                                                                                                                            \n",
       "36900  Its a very sensitive portrayal of life with unquenched or constrained desires. What does one do with desire in a culture and society with rigid norms? One husband finds outlet with the immigrant - since immigrants don't belong or aren't accepted, they don't need to conform and dam their desires. The other husband looks for solace in spirituality and tries to evaporate his desire into nothingness. It fails - of course - and he breaks down in the last scene for multiple reasons. Sita still cared enough for him to find that moment to let him know that he is not responsible for her deviant outlet to her blocked desires. The mother in her still couldn't find the strength to destroy his myth. She sees him as a child who is glorifying himself in his lust-control but should she give him the opportunity to finally grow up? Both the wives find courage and togetherness through their shared rejection by their husband. <br /><br />But the final act of rejection was by the grandmother - she could not break free from her rusted mindset to accept Sita's desire. A decade and more of receiving care was not enough to break the shackles of her culture.<br /><br />Seems like it was easiest for the househelp to let his desires flow - since he's anyway damned by his culture - being at the bottom of the hierarchy. Since there is anyway no respect and expectations, might as well taste sin.                                                                                                                                                                                                                                                                                                                                                                                                                                                                                                                                                                                                                                                                                                                                                                                                                                                                                                                                                                                                                                                                                                                                                                                                                                                                                                                           \n",
       "12365  Dead Gentlemen Productions has put together a film with amazing production values considering their budget. Anyone that has ever played any role-playing game, particularly any fantasy RPG (they play Dungeons and Dragons in the movie) will LOVE this movie. Brilliant performances all around--especially with regards to the dual nature of the principles, playing their players and their characters. Anyone who has ever filmed or acted in a student film will appreciate the amount of work and love they put into this project. This movie (and its prequel) is to fantasy movies and role-playing games what Blazing Saddles is to westerns--parody of the highest order. I only have a couple minor complaints about the movie itself, none of which will prevent me from buying the DVD as soon as it's available (only 6 more weeks--I'm counting the days): <br /><br />1. When Lodge is talking to Joanna about joining the gaming group, he hands her a copy of the Dungeons and Dragons Players Handbook and says \"this will tell you everything you need to know.\" The camera hovers too long on a shot of the book, and the moment really seemed like a commercial.<br /><br />2. The jokes are hilarious, but they seem unevenly spread throughout the movie. The last third of the movie, after the almost continuous barrage of visual and verbal humor preceding it, slows down a bit, as if the narrative was catching up with the jokes. Odd, but Blazing Saddles always struck me that way as well. . . and I love that movie, too.<br /><br />One of the narrative strengths of the story is the unresolved nature of the romantic subplot. Will Joanna become the GM's girlfriend? Will she go back to Cass? Or will the three maintain a platonic friendship, deepened by the camaraderie of role-playing? (Yes that sounds sappy, but there are a couple of saccharine moments, particularly when Cass and Lodge \"make up\" at the end.) But the movie spans one week: in terms of human relationships, those questions could not be answered in a week. The fact that the characters' relationships are left undefined strikes me as better than the more classical choices you see in most movies, like the girl gets her prince and they move into the castle, or the prince sinks into the North Atlantic after three trite, tedious, and predictable hours. The writers really seem to have a grasp of the psychology of the characters, and you can see the characters (both the gamers and the player's characters) change over the course of the movie, but not suddenly, and not unbelievably. <br /><br />I would love to hear more wisdom from Brother Silence. \"The man who stands out in darkness is. . . fluorescent.\"   \n",
       "\n",
       "       label  \n",
       "38431  0      \n",
       "37703  0      \n",
       "23487  0      \n",
       "6253   0      \n",
       "9503   1      \n",
       "24498  0      \n",
       "14251  1      \n",
       "35648  0      \n",
       "36900  1      \n",
       "12365  1      "
      ]
     },
     "execution_count": 7,
     "metadata": {},
     "output_type": "execute_result"
    }
   ],
   "source": [
    "train_data.sample(10)"
   ]
  },
  {
   "cell_type": "markdown",
   "metadata": {},
   "source": [
    "###### Let's take a look at some statistical figures for word count. "
   ]
  },
  {
   "cell_type": "code",
   "execution_count": 8,
   "metadata": {},
   "outputs": [],
   "source": [
    "train_data['text']= train_data['text'].astype(str)\n",
    "train_data['word_count'] = train_data['text'].apply(lambda x : len(x.split()))"
   ]
  },
  {
   "cell_type": "code",
   "execution_count": 9,
   "metadata": {},
   "outputs": [
    {
     "data": {
      "text/plain": [
       "count    40000.000000\n",
       "mean     231.339250  \n",
       "std      171.194123  \n",
       "min      4.000000    \n",
       "25%      126.000000  \n",
       "50%      173.000000  \n",
       "75%      282.000000  \n",
       "max      2470.000000 \n",
       "Name: word_count, dtype: float64"
      ]
     },
     "execution_count": 9,
     "metadata": {},
     "output_type": "execute_result"
    }
   ],
   "source": [
    "train_data.word_count.describe()"
   ]
  },
  {
   "cell_type": "markdown",
   "metadata": {},
   "source": [
    "### Train SVC model "
   ]
  },
  {
   "cell_type": "code",
   "execution_count": 10,
   "metadata": {},
   "outputs": [],
   "source": [
    "TF_PARAMS = {\n",
    "    #'tokenizer': tweet_tok.tokenize,\n",
    "    'analyzer': 'word',\n",
    "    'max_df': 0.5431858441280838,\n",
    "    'use_idf': True,\n",
    "    'smooth_idf': True,\n",
    "    'sublinear_tf': True,\n",
    "    'ngram_range': (1,4),\n",
    "    'lowercase': True\n",
    "   # 'stop_words': STOPWORDS\n",
    "\n",
    "}\n",
    "\n",
    "SVC_PARAMS  = {\n",
    "    'fit_intercept': True,\n",
    "    #'max_iter': 2900,\n",
    "    'tol': 0.019114513977298204,\n",
    "    'C': 0.7962740670237443,\n",
    "    'class_weight': 'balanced',\n",
    "    'penalty': 'l2',\n",
    "    'multi_class': 'ovr'\n",
    "    }"
   ]
  },
  {
   "cell_type": "code",
   "execution_count": 11,
   "metadata": {},
   "outputs": [
    {
     "name": "stdout",
     "output_type": "stream",
     "text": [
      "0.9094\n",
      "              precision    recall  f1-score   support\n",
      "\n",
      "           0       0.92      0.90      0.91      2495\n",
      "           1       0.90      0.92      0.91      2505\n",
      "\n",
      "    accuracy                           0.91      5000\n",
      "   macro avg       0.91      0.91      0.91      5000\n",
      "weighted avg       0.91      0.91      0.91      5000\n",
      "\n"
     ]
    }
   ],
   "source": [
    "\n",
    "SVC_pipeline = Pipeline([\n",
    "                    ('tfidf', TfidfVectorizer(**TF_PARAMS)),\n",
    "                    ('clf', OneVsRestClassifier(CalibratedClassifierCV(LinearSVC(**SVC_PARAMS)))),\n",
    "                     \n",
    "                ])\n",
    "\n",
    "SVC_pipeline.fit(train_data.text, train_data.label)\n",
    "y_preds = SVC_pipeline.predict(test_data.text)\n",
    "report = classification_report(test_data.label, y_preds)\n",
    "print(str(np.mean(test_data.label == y_preds)))\n",
    "print(report)\n",
    "\n"
   ]
  },
  {
   "cell_type": "markdown",
   "metadata": {},
   "source": [
    "### Define & Wrap predict_prob function"
   ]
  },
  {
   "cell_type": "code",
   "execution_count": 12,
   "metadata": {},
   "outputs": [],
   "source": [
    "def predict_proba(inputs):\n",
    "\n",
    "    return SVC_pipeline.predict_proba(inputs)"
   ]
  },
  {
   "cell_type": "code",
   "execution_count": 13,
   "metadata": {},
   "outputs": [],
   "source": [
    "from checklist.pred_wrapper import PredictorWrapper\n",
    "wrapped_pp = PredictorWrapper.wrap_softmax(predict_proba)"
   ]
  },
  {
   "cell_type": "code",
   "execution_count": 14,
   "metadata": {},
   "outputs": [
    {
     "data": {
      "text/plain": [
       "(array([0, 1, 0, 0], dtype=int64),\n",
       " array([[0.99174398, 0.00825602],\n",
       "        [0.01145994, 0.98854006],\n",
       "        [0.99761106, 0.00238894],\n",
       "        [0.90313039, 0.09686961]]))"
      ]
     },
     "execution_count": 14,
     "metadata": {},
     "output_type": "execute_result"
    }
   ],
   "source": [
    "wrapped_pp(['This is not a good book', 'This is a good book', 'This book is okay', 'I do not like this book'])"
   ]
  },
  {
   "cell_type": "markdown",
   "metadata": {},
   "source": [
    "### Import pre-defined Checklist Test Suite "
   ]
  },
  {
   "cell_type": "code",
   "execution_count": 20,
   "metadata": {},
   "outputs": [],
   "source": [
    "##Import checlist\n",
    "import checklist\n",
    "from checklist.test_suite import TestSuite\n",
    "suite_path = 'sentiment_suite.pkl'\n",
    "suite = TestSuite.from_file(suite_path)"
   ]
  },
  {
   "cell_type": "code",
   "execution_count": 21,
   "metadata": {},
   "outputs": [
    {
     "name": "stdout",
     "output_type": "stream",
     "text": [
      "Running single positive words\n",
      "Predicting 19 examples\n",
      "Running single negative words\n",
      "Predicting 23 examples\n",
      "Running Sentiment-laden words in context\n",
      "Predicting 4662 examples\n",
      "Running simple negations: negative\n",
      "Predicting 3402 examples\n",
      "Running simple negations: not negative\n",
      "Predicting 3654 examples\n"
     ]
    }
   ],
   "source": [
    "suite.run(wrapped_pp, overwrite = True)"
   ]
  },
  {
   "cell_type": "code",
   "execution_count": 22,
   "metadata": {},
   "outputs": [
    {
     "name": "stdout",
     "output_type": "stream",
     "text": [
      "Please wait as we prepare the table data...\n"
     ]
    },
    {
     "data": {
      "application/vnd.jupyter.widget-view+json": {
       "model_id": "4888485bc57c4d84bf0d637a7e9a2752",
       "version_major": 2,
       "version_minor": 0
      },
      "text/plain": [
       "SuiteSummarizer(stats={'npassed': 0, 'nfailed': 0, 'nfiltered': 0}, test_infos=[{'name': 'single positive word…"
      ]
     },
     "metadata": {},
     "output_type": "display_data"
    }
   ],
   "source": [
    "suite.visual_summary_table()"
   ]
  },
  {
   "cell_type": "code",
   "execution_count": null,
   "metadata": {},
   "outputs": [],
   "source": []
  }
 ],
 "metadata": {
  "kernelspec": {
   "display_name": "Python 3",
   "language": "python",
   "name": "python3"
  },
  "language_info": {
   "codemirror_mode": {
    "name": "ipython",
    "version": 3
   },
   "file_extension": ".py",
   "mimetype": "text/x-python",
   "name": "python",
   "nbconvert_exporter": "python",
   "pygments_lexer": "ipython3",
   "version": "3.8.3"
  }
 },
 "nbformat": 4,
 "nbformat_minor": 4
}
